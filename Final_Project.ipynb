{
 "cells": [
  {
   "cell_type": "markdown",
   "id": "744c9f84-e1e1-456c-a621-04bfcb31c56c",
   "metadata": {},
   "source": [
    "**First import all necessary packages for the activities.**\n",
    "\n",
    "**We will be using BeautifulSoup to scrape the website, requests package to get the website data and pandas for creating dataframes.**\n",
    "**various mapping and machine learning packages are also imported"
   ]
  },
  {
   "cell_type": "code",
   "execution_count": 408,
   "id": "84ac727c-a966-4dd5-9f60-b8e1c020d5a4",
   "metadata": {},
   "outputs": [
    {
     "name": "stdout",
     "output_type": "stream",
     "text": [
      "Requirement already satisfied: bs4 in /home/jupyterlab/conda/envs/python/lib/python3.6/site-packages (0.0.1)\n",
      "Requirement already satisfied: beautifulsoup4 in /home/jupyterlab/conda/envs/python/lib/python3.6/site-packages (from bs4) (4.9.3)\n",
      "Requirement already satisfied: soupsieve>1.2; python_version >= \"3.0\" in /home/jupyterlab/conda/envs/python/lib/python3.6/site-packages (from beautifulsoup4->bs4) (2.2.1)\n",
      "Requirement already satisfied: geocoder in /home/jupyterlab/conda/envs/python/lib/python3.6/site-packages (1.38.1)\n",
      "Requirement already satisfied: click in /home/jupyterlab/conda/envs/python/lib/python3.6/site-packages (from geocoder) (8.0.1)\n",
      "Requirement already satisfied: requests in /home/jupyterlab/conda/envs/python/lib/python3.6/site-packages (from geocoder) (2.25.1)\n",
      "Requirement already satisfied: ratelim in /home/jupyterlab/conda/envs/python/lib/python3.6/site-packages (from geocoder) (0.1.6)\n",
      "Requirement already satisfied: six in /home/jupyterlab/conda/envs/python/lib/python3.6/site-packages (from geocoder) (1.15.0)\n",
      "Requirement already satisfied: future in /home/jupyterlab/conda/envs/python/lib/python3.6/site-packages (from geocoder) (0.18.2)\n",
      "Requirement already satisfied: importlib-metadata; python_version < \"3.8\" in /home/jupyterlab/conda/envs/python/lib/python3.6/site-packages (from click->geocoder) (4.6.1)\n",
      "Requirement already satisfied: idna<3,>=2.5 in /home/jupyterlab/conda/envs/python/lib/python3.6/site-packages (from requests->geocoder) (2.10)\n",
      "Requirement already satisfied: urllib3<1.27,>=1.21.1 in /home/jupyterlab/conda/envs/python/lib/python3.6/site-packages (from requests->geocoder) (1.26.6)\n",
      "Requirement already satisfied: certifi>=2017.4.17 in /home/jupyterlab/conda/envs/python/lib/python3.6/site-packages (from requests->geocoder) (2021.5.30)\n",
      "Requirement already satisfied: chardet<5,>=3.0.2 in /home/jupyterlab/conda/envs/python/lib/python3.6/site-packages (from requests->geocoder) (4.0.0)\n",
      "Requirement already satisfied: decorator in /home/jupyterlab/conda/envs/python/lib/python3.6/site-packages (from ratelim->geocoder) (4.4.2)\n",
      "Requirement already satisfied: zipp>=0.5 in /home/jupyterlab/conda/envs/python/lib/python3.6/site-packages (from importlib-metadata; python_version < \"3.8\"->click->geocoder) (3.5.0)\n",
      "Requirement already satisfied: typing-extensions>=3.6.4; python_version < \"3.8\" in /home/jupyterlab/conda/envs/python/lib/python3.6/site-packages (from importlib-metadata; python_version < \"3.8\"->click->geocoder) (3.10.0.0)\n",
      "Requirement already satisfied: geopy in /home/jupyterlab/conda/envs/python/lib/python3.6/site-packages (2.2.0)\n",
      "Requirement already satisfied: geographiclib<2,>=1.49 in /home/jupyterlab/conda/envs/python/lib/python3.6/site-packages (from geopy) (1.52)\n"
     ]
    }
   ],
   "source": [
    "!pip install bs4\n",
    "!pip install geocoder\n",
    "!pip install geopy\n",
    "import geocoder\n",
    "from bs4 import BeautifulSoup \n",
    "from sklearn.cluster import KMeans\n",
    "import requests  \n",
    "import pandas as pd\n",
    "import folium\n",
    "import json\n",
    "import numpy as np\n",
    "import matplotlib.cm as cm\n",
    "import matplotlib.colors as colors\n",
    "from pandas import json_normalize"
   ]
  },
  {
   "cell_type": "markdown",
   "id": "cde0a2b6-d983-4029-bfb3-c939a1a55a96",
   "metadata": {},
   "source": [
    "First find outside info of where current Kava Bars are located"
   ]
  },
  {
   "cell_type": "code",
   "execution_count": 409,
   "id": "b56ff5c8-4c7c-4355-80c2-fdea6286a934",
   "metadata": {},
   "outputs": [],
   "source": [
    "url='https://kavaguides.com/kava-bars'"
   ]
  },
  {
   "cell_type": "code",
   "execution_count": 410,
   "id": "84406347-14d5-43c8-bccc-60575f541fdb",
   "metadata": {},
   "outputs": [],
   "source": [
    "data  = requests.get(url).text \n",
    "soup = BeautifulSoup(data, 'html5lib')"
   ]
  },
  {
   "cell_type": "code",
   "execution_count": 411,
   "id": "14689129-447b-4571-8185-14479af8ab3b",
   "metadata": {},
   "outputs": [
    {
     "data": {
      "text/html": [
       "<div>\n",
       "<style scoped>\n",
       "    .dataframe tbody tr th:only-of-type {\n",
       "        vertical-align: middle;\n",
       "    }\n",
       "\n",
       "    .dataframe tbody tr th {\n",
       "        vertical-align: top;\n",
       "    }\n",
       "\n",
       "    .dataframe thead th {\n",
       "        text-align: right;\n",
       "    }\n",
       "</style>\n",
       "<table border=\"1\" class=\"dataframe\">\n",
       "  <thead>\n",
       "    <tr style=\"text-align: right;\">\n",
       "      <th></th>\n",
       "      <th>Name</th>\n",
       "      <th>State</th>\n",
       "      <th>City</th>\n",
       "    </tr>\n",
       "  </thead>\n",
       "  <tbody>\n",
       "    <tr>\n",
       "      <th>0</th>\n",
       "      <td>CBD American Shaman + Kava Bar</td>\n",
       "      <td>Arkansas</td>\n",
       "      <td>Fayetteville</td>\n",
       "    </tr>\n",
       "    <tr>\n",
       "      <th>1</th>\n",
       "      <td>MeloMelo Kava Bar</td>\n",
       "      <td>California</td>\n",
       "      <td>Berkeley</td>\n",
       "    </tr>\n",
       "    <tr>\n",
       "      <th>2</th>\n",
       "      <td>Root of Happiness Davis</td>\n",
       "      <td>California</td>\n",
       "      <td>Davis</td>\n",
       "    </tr>\n",
       "    <tr>\n",
       "      <th>3</th>\n",
       "      <td>Wu Wei Tea Temple</td>\n",
       "      <td>California</td>\n",
       "      <td>Fairfax</td>\n",
       "    </tr>\n",
       "    <tr>\n",
       "      <th>4</th>\n",
       "      <td>Elixart</td>\n",
       "      <td>California</td>\n",
       "      <td>Nevada City</td>\n",
       "    </tr>\n",
       "  </tbody>\n",
       "</table>\n",
       "</div>"
      ],
      "text/plain": [
       "                             Name       State          City\n",
       "0  CBD American Shaman + Kava Bar    Arkansas  Fayetteville\n",
       "1               MeloMelo Kava Bar  California      Berkeley\n",
       "2         Root of Happiness Davis  California         Davis\n",
       "3               Wu Wei Tea Temple  California       Fairfax\n",
       "4                         Elixart  California   Nevada City"
      ]
     },
     "execution_count": 411,
     "metadata": {},
     "output_type": "execute_result"
    }
   ],
   "source": [
    "clean_row =[]\n",
    "table=soup.find('table')\n",
    "header =  table.find_all('th')\n",
    "header_text = [h.text for h in header]\n",
    "rows = table.find_all('tr')\n",
    " # display tables\n",
    "for i in rows:\n",
    "    table_data = i.find_all('td')\n",
    "    if table_data:\n",
    "        data = [j.text for j in table_data]\n",
    "        clean_row.append(data)\n",
    "df=pd.DataFrame(clean_row)\n",
    "df.columns = header_text\n",
    "df.head()"
   ]
  },
  {
   "cell_type": "code",
   "execution_count": 412,
   "id": "c445f2d7-4fd7-4815-8c07-0373e78ac05a",
   "metadata": {},
   "outputs": [
    {
     "name": "stdout",
     "output_type": "stream",
     "text": [
      "The dataframe has 14 States and 73 Cities.\n"
     ]
    }
   ],
   "source": [
    "print('The dataframe has {} States and {} Cities.'.format(\n",
    "        len(df['State'].unique()),\n",
    "        len(df['City'].unique())\n",
    "    )\n",
    ")"
   ]
  },
  {
   "cell_type": "code",
   "execution_count": 305,
   "id": "74077544-e3e0-4359-b02b-c2f021f06fd4",
   "metadata": {},
   "outputs": [
    {
     "data": {
      "text/plain": [
       "array(['Arkansas', 'California', 'Colorado', 'Florida', 'Hawaii',\n",
       "       'Illinois', 'Kansas', 'Louisiana', 'Pennsylvania', 'Michigan',\n",
       "       'Missouri', 'Montana', 'New Mexico', 'New York'], dtype=object)"
      ]
     },
     "execution_count": 305,
     "metadata": {},
     "output_type": "execute_result"
    }
   ],
   "source": [
    "states=df['State'].unique()\n",
    "states"
   ]
  },
  {
   "cell_type": "code",
   "execution_count": 306,
   "id": "c4368ffe-6ea4-4c00-bffa-759958e37a0c",
   "metadata": {},
   "outputs": [
    {
     "data": {
      "text/plain": [
       "array(['Fayetteville', 'Berkeley', 'Davis', 'Fairfax', 'Nevada City',\n",
       "       'Rancho Cordova', 'Roseville', 'Sacramento', 'San Bruno',\n",
       "       'San Diego', 'San Francisco', 'San Rafael', 'Santa Cruz',\n",
       "       '\\xa0Denver', 'Colorado Springs', 'Denver', 'Largo',\n",
       "       'Pompano Beach', 'Boca Raton', 'Bonita Springs', 'Boynton Beach',\n",
       "       'Clearwater', 'Cocoa Beach', 'Cutler Bay', 'Delray Beach',\n",
       "       'Fort Lauderdale', 'Fort Meyers', 'Fort Myers', 'Ft. Lauderdale',\n",
       "       'Gainesville', 'Gulfport', 'Hollywood', 'Kissimmee', 'Lake Worth',\n",
       "       'Madeira Beach', 'Melbourne', 'Miami', 'Miami Beach', 'Mount Dora',\n",
       "       'New Port Richey', 'Orlando', 'Palm Beach Gardens', 'Palm Harbor',\n",
       "       'Riverview', 'Safety Harbor,', 'Sanford', 'Sarasota',\n",
       "       'St Petersburg', 'St. Petersburg', 'Stuart', 'Tallahassee',\n",
       "       'Tampa', 'West Palm Beach', 'West West Palm', 'Winter Park',\n",
       "       'Hawi', 'Hilo', 'Honolulu', 'Kailua-Kona', 'Naalehu', 'Pahoa',\n",
       "       'Chicago', 'Lawrence', 'New Orleans', 'Trevose', 'Grand Rapids',\n",
       "       'Kansas City', 'St. Charles', 'St. Louis', 'Missoula', 'Santa Fe',\n",
       "       'Binghamton', 'Brooklyn'], dtype=object)"
      ]
     },
     "execution_count": 306,
     "metadata": {},
     "output_type": "execute_result"
    }
   ],
   "source": [
    "city=df['City'].unique()\n",
    "city"
   ]
  },
  {
   "cell_type": "markdown",
   "id": "d6a6ac96-69d5-4cd5-b6e7-4375776b80be",
   "metadata": {},
   "source": [
    "Looks like there are duplicates: <br> 1. Fort Myers with Fort Meyers <br> 2. Ft. Lauderdale with Fort Lauderdale <br> 3. St. Petersburg with St Petersburg\n",
    "<br>\n",
    "Also Denver needs to be cleaned. It is \\xa0Denver now\n",
    "Then Safety Harbor has an extra comma."
   ]
  },
  {
   "cell_type": "code",
   "execution_count": 307,
   "id": "be67bd89-4aa6-4e76-9b78-1748f818087e",
   "metadata": {},
   "outputs": [],
   "source": [
    "df['City']=df['City'].replace({'Fort Meyers':'Fort Myers', 'Fort Lauderdale':'Ft. Lauderdale', 'St Petersburg':'St. Petersburg', '\\xa0Denver':'Denver', 'Safety Harbor,':'Safety Harbor'})"
   ]
  },
  {
   "cell_type": "code",
   "execution_count": 308,
   "id": "2f5cb09c-f322-43e0-94de-f5544daf610e",
   "metadata": {},
   "outputs": [
    {
     "data": {
      "text/plain": [
       "array(['Fayetteville', 'Berkeley', 'Davis', 'Fairfax', 'Nevada City',\n",
       "       'Rancho Cordova', 'Roseville', 'Sacramento', 'San Bruno',\n",
       "       'San Diego', 'San Francisco', 'San Rafael', 'Santa Cruz', 'Denver',\n",
       "       'Colorado Springs', 'Largo', 'Pompano Beach', 'Boca Raton',\n",
       "       'Bonita Springs', 'Boynton Beach', 'Clearwater', 'Cocoa Beach',\n",
       "       'Cutler Bay', 'Delray Beach', 'Ft. Lauderdale', 'Fort Myers',\n",
       "       'Gainesville', 'Gulfport', 'Hollywood', 'Kissimmee', 'Lake Worth',\n",
       "       'Madeira Beach', 'Melbourne', 'Miami', 'Miami Beach', 'Mount Dora',\n",
       "       'New Port Richey', 'Orlando', 'Palm Beach Gardens', 'Palm Harbor',\n",
       "       'Riverview', 'Safety Harbor', 'Sanford', 'Sarasota',\n",
       "       'St. Petersburg', 'Stuart', 'Tallahassee', 'Tampa',\n",
       "       'West Palm Beach', 'West West Palm', 'Winter Park', 'Hawi', 'Hilo',\n",
       "       'Honolulu', 'Kailua-Kona', 'Naalehu', 'Pahoa', 'Chicago',\n",
       "       'Lawrence', 'New Orleans', 'Trevose', 'Grand Rapids',\n",
       "       'Kansas City', 'St. Charles', 'St. Louis', 'Missoula', 'Santa Fe',\n",
       "       'Binghamton', 'Brooklyn'], dtype=object)"
      ]
     },
     "execution_count": 308,
     "metadata": {},
     "output_type": "execute_result"
    }
   ],
   "source": [
    "city=df['City'].unique()\n",
    "city"
   ]
  },
  {
   "cell_type": "code",
   "execution_count": 309,
   "id": "7d7719d8-e741-4ee7-a08b-ca78d9b7dd4a",
   "metadata": {},
   "outputs": [
    {
     "data": {
      "text/plain": [
       "array([[<AxesSubplot:title={'center':'Arkansas'}>,\n",
       "        <AxesSubplot:title={'center':'California'}>,\n",
       "        <AxesSubplot:title={'center':'Colorado'}>,\n",
       "        <AxesSubplot:title={'center':'Florida'}>],\n",
       "       [<AxesSubplot:title={'center':'Hawaii'}>,\n",
       "        <AxesSubplot:title={'center':'Illinois'}>,\n",
       "        <AxesSubplot:title={'center':'Kansas'}>,\n",
       "        <AxesSubplot:title={'center':'Louisiana'}>],\n",
       "       [<AxesSubplot:title={'center':'Michigan'}>,\n",
       "        <AxesSubplot:title={'center':'Missouri'}>,\n",
       "        <AxesSubplot:title={'center':'Montana'}>,\n",
       "        <AxesSubplot:title={'center':'New Mexico'}>],\n",
       "       [<AxesSubplot:title={'center':'New York'}>,\n",
       "        <AxesSubplot:title={'center':'Pennsylvania'}>, <AxesSubplot:>,\n",
       "        <AxesSubplot:>]], dtype=object)"
      ]
     },
     "execution_count": 309,
     "metadata": {},
     "output_type": "execute_result"
    },
    {
     "data": {
      "image/png": "[encoded data removed]",
      "text/plain": [
       "<Figure size 1440x432 with 16 Axes>"
      ]
     },
     "metadata": {
      "needs_background": "light"
     },
     "output_type": "display_data"
    }
   ],
   "source": [
    "df.hist(column='City', by='State', figsize=(20, 6),)"
   ]
  },
  {
   "cell_type": "code",
   "execution_count": 310,
   "id": "0750975d-da01-49e6-88be-dc9669d21573",
   "metadata": {},
   "outputs": [
    {
     "data": {
      "text/html": [
       "<div>\n",
       "<style scoped>\n",
       "    .dataframe tbody tr th:only-of-type {\n",
       "        vertical-align: middle;\n",
       "    }\n",
       "\n",
       "    .dataframe tbody tr th {\n",
       "        vertical-align: top;\n",
       "    }\n",
       "\n",
       "    .dataframe thead th {\n",
       "        text-align: right;\n",
       "    }\n",
       "</style>\n",
       "<table border=\"1\" class=\"dataframe\">\n",
       "  <thead>\n",
       "    <tr style=\"text-align: right;\">\n",
       "      <th></th>\n",
       "      <th>Name</th>\n",
       "      <th>City</th>\n",
       "    </tr>\n",
       "    <tr>\n",
       "      <th>State</th>\n",
       "      <th></th>\n",
       "      <th></th>\n",
       "    </tr>\n",
       "  </thead>\n",
       "  <tbody>\n",
       "    <tr>\n",
       "      <th>Florida</th>\n",
       "      <td>62</td>\n",
       "      <td>62</td>\n",
       "    </tr>\n",
       "    <tr>\n",
       "      <th>California</th>\n",
       "      <td>15</td>\n",
       "      <td>15</td>\n",
       "    </tr>\n",
       "    <tr>\n",
       "      <th>Hawaii</th>\n",
       "      <td>7</td>\n",
       "      <td>7</td>\n",
       "    </tr>\n",
       "    <tr>\n",
       "      <th>Colorado</th>\n",
       "      <td>3</td>\n",
       "      <td>3</td>\n",
       "    </tr>\n",
       "    <tr>\n",
       "      <th>Missouri</th>\n",
       "      <td>3</td>\n",
       "      <td>3</td>\n",
       "    </tr>\n",
       "    <tr>\n",
       "      <th>New York</th>\n",
       "      <td>2</td>\n",
       "      <td>2</td>\n",
       "    </tr>\n",
       "    <tr>\n",
       "      <th>Arkansas</th>\n",
       "      <td>1</td>\n",
       "      <td>1</td>\n",
       "    </tr>\n",
       "    <tr>\n",
       "      <th>Illinois</th>\n",
       "      <td>1</td>\n",
       "      <td>1</td>\n",
       "    </tr>\n",
       "    <tr>\n",
       "      <th>Kansas</th>\n",
       "      <td>1</td>\n",
       "      <td>1</td>\n",
       "    </tr>\n",
       "    <tr>\n",
       "      <th>Louisiana</th>\n",
       "      <td>1</td>\n",
       "      <td>1</td>\n",
       "    </tr>\n",
       "    <tr>\n",
       "      <th>Michigan</th>\n",
       "      <td>1</td>\n",
       "      <td>1</td>\n",
       "    </tr>\n",
       "    <tr>\n",
       "      <th>Montana</th>\n",
       "      <td>1</td>\n",
       "      <td>1</td>\n",
       "    </tr>\n",
       "    <tr>\n",
       "      <th>New Mexico</th>\n",
       "      <td>1</td>\n",
       "      <td>1</td>\n",
       "    </tr>\n",
       "    <tr>\n",
       "      <th>Pennsylvania</th>\n",
       "      <td>1</td>\n",
       "      <td>1</td>\n",
       "    </tr>\n",
       "  </tbody>\n",
       "</table>\n",
       "</div>"
      ],
      "text/plain": [
       "              Name  City\n",
       "State                   \n",
       "Florida         62    62\n",
       "California      15    15\n",
       "Hawaii           7     7\n",
       "Colorado         3     3\n",
       "Missouri         3     3\n",
       "New York         2     2\n",
       "Arkansas         1     1\n",
       "Illinois         1     1\n",
       "Kansas           1     1\n",
       "Louisiana        1     1\n",
       "Michigan         1     1\n",
       "Montana          1     1\n",
       "New Mexico       1     1\n",
       "Pennsylvania     1     1"
      ]
     },
     "execution_count": 310,
     "metadata": {},
     "output_type": "execute_result"
    }
   ],
   "source": [
    "df.groupby(['State']).count().sort_values(by='City', ascending=False)\n"
   ]
  },
  {
   "cell_type": "markdown",
   "id": "3385c182-c822-4836-85ae-6c97fe71b71d",
   "metadata": {},
   "source": [
    "**We definitely should focus our investigation on Florida, where the most Kava bars are located.**"
   ]
  },
  {
   "cell_type": "code",
   "execution_count": 311,
   "id": "d003cf53-7d94-4a46-bdf0-fb87b203b225",
   "metadata": {},
   "outputs": [
    {
     "name": "stdout",
     "output_type": "stream",
     "text": [
      "                                Name    State             City\n",
      "19       Dharma Hookah & Kava Lounge  Florida            Largo\n",
      "20                 Kava By the Water  Florida    Pompano Beach\n",
      "21                  The Nak Kava Bar  Florida       Boca Raton\n",
      "22                            Nakava  Florida       Boca Raton\n",
      "23             Kava Culture Kava Bar  Florida   Bonita Springs\n",
      "..                               ...      ...              ...\n",
      "76  Mad Chiller World Kava & Waffles  Florida            Tampa\n",
      "77                           Te Mana  Florida  West Palm Beach\n",
      "78      Purple Lotus West Palm Beach  Florida   West West Palm\n",
      "79              The Healthy Buddah 2  Florida      Winter Park\n",
      "80                  Kava Cove Lounge  Florida      Winter Park\n",
      "\n",
      "[62 rows x 3 columns]\n"
     ]
    }
   ],
   "source": [
    "select_florida = df.loc[df['State'] == 'Florida']\n",
    "print (select_florida)"
   ]
  },
  {
   "cell_type": "code",
   "execution_count": 312,
   "id": "e4c77d13-f996-485c-8dc8-0c9a6393b894",
   "metadata": {},
   "outputs": [
    {
     "data": {
      "text/plain": [
       "<AxesSubplot:title={'center':'Florida'}>"
      ]
     },
     "execution_count": 312,
     "metadata": {},
     "output_type": "execute_result"
    },
    {
     "data": {
      "image/png": "[encoded data removed]",
      "text/plain": [
       "<Figure size 1800x432 with 1 Axes>"
      ]
     },
     "metadata": {
      "needs_background": "light"
     },
     "output_type": "display_data"
    }
   ],
   "source": [
    "select_florida.hist(column='City', by='State', figsize=(25, 6),)"
   ]
  },
  {
   "cell_type": "code",
   "execution_count": 313,
   "id": "ff8b05ac-a6af-4a34-adc2-373873151e94",
   "metadata": {},
   "outputs": [
    {
     "data": {
      "text/html": [
       "<div>\n",
       "<style scoped>\n",
       "    .dataframe tbody tr th:only-of-type {\n",
       "        vertical-align: middle;\n",
       "    }\n",
       "\n",
       "    .dataframe tbody tr th {\n",
       "        vertical-align: top;\n",
       "    }\n",
       "\n",
       "    .dataframe thead th {\n",
       "        text-align: right;\n",
       "    }\n",
       "</style>\n",
       "<table border=\"1\" class=\"dataframe\">\n",
       "  <thead>\n",
       "    <tr style=\"text-align: right;\">\n",
       "      <th></th>\n",
       "      <th>Name</th>\n",
       "      <th>State</th>\n",
       "      <th>City</th>\n",
       "    </tr>\n",
       "  </thead>\n",
       "  <tbody>\n",
       "    <tr>\n",
       "      <th>71</th>\n",
       "      <td>Island Root Kava Bar</td>\n",
       "      <td>Florida</td>\n",
       "      <td>Stuart</td>\n",
       "    </tr>\n",
       "  </tbody>\n",
       "</table>\n",
       "</div>"
      ],
      "text/plain": [
       "                    Name    State    City\n",
       "71  Island Root Kava Bar  Florida  Stuart"
      ]
     },
     "execution_count": 313,
     "metadata": {},
     "output_type": "execute_result"
    }
   ],
   "source": [
    "stuart = select_florida[select_florida['City'] =='Stuart']\n",
    "stuart\n"
   ]
  },
  {
   "cell_type": "code",
   "execution_count": 314,
   "id": "aab01562-4c32-44ad-aa18-625d3a0c5526",
   "metadata": {},
   "outputs": [
    {
     "data": {
      "text/html": [
       "<div>\n",
       "<style scoped>\n",
       "    .dataframe tbody tr th:only-of-type {\n",
       "        vertical-align: middle;\n",
       "    }\n",
       "\n",
       "    .dataframe tbody tr th {\n",
       "        vertical-align: top;\n",
       "    }\n",
       "\n",
       "    .dataframe thead th {\n",
       "        text-align: right;\n",
       "    }\n",
       "</style>\n",
       "<table border=\"1\" class=\"dataframe\">\n",
       "  <thead>\n",
       "    <tr style=\"text-align: right;\">\n",
       "      <th></th>\n",
       "      <th>Name</th>\n",
       "      <th>State</th>\n",
       "      <th>City</th>\n",
       "    </tr>\n",
       "  </thead>\n",
       "  <tbody>\n",
       "    <tr>\n",
       "      <th>72</th>\n",
       "      <td>Kavakaze</td>\n",
       "      <td>Florida</td>\n",
       "      <td>Tallahassee</td>\n",
       "    </tr>\n",
       "  </tbody>\n",
       "</table>\n",
       "</div>"
      ],
      "text/plain": [
       "        Name    State         City\n",
       "72  Kavakaze  Florida  Tallahassee"
      ]
     },
     "execution_count": 314,
     "metadata": {},
     "output_type": "execute_result"
    }
   ],
   "source": [
    "talahasee= select_florida[select_florida['City'] =='Tallahassee']\n",
    "talahasee"
   ]
  },
  {
   "cell_type": "code",
   "execution_count": 315,
   "id": "e1f2e06a-4460-4ee9-bdf6-be4fe4414a84",
   "metadata": {},
   "outputs": [
    {
     "data": {
      "text/html": [
       "<div>\n",
       "<style scoped>\n",
       "    .dataframe tbody tr th:only-of-type {\n",
       "        vertical-align: middle;\n",
       "    }\n",
       "\n",
       "    .dataframe tbody tr th {\n",
       "        vertical-align: top;\n",
       "    }\n",
       "\n",
       "    .dataframe thead th {\n",
       "        text-align: right;\n",
       "    }\n",
       "</style>\n",
       "<table border=\"1\" class=\"dataframe\">\n",
       "  <thead>\n",
       "    <tr style=\"text-align: right;\">\n",
       "      <th></th>\n",
       "      <th>Name</th>\n",
       "      <th>State</th>\n",
       "      <th>City</th>\n",
       "    </tr>\n",
       "  </thead>\n",
       "  <tbody>\n",
       "    <tr>\n",
       "      <th>63</th>\n",
       "      <td>Mad Hatters Ethnobotanical Tea Bar</td>\n",
       "      <td>Florida</td>\n",
       "      <td>St. Petersburg</td>\n",
       "    </tr>\n",
       "    <tr>\n",
       "      <th>64</th>\n",
       "      <td>Vapor Road – Tyrone</td>\n",
       "      <td>Florida</td>\n",
       "      <td>St. Petersburg</td>\n",
       "    </tr>\n",
       "    <tr>\n",
       "      <th>65</th>\n",
       "      <td>Bula Kafe</td>\n",
       "      <td>Florida</td>\n",
       "      <td>St. Petersburg</td>\n",
       "    </tr>\n",
       "    <tr>\n",
       "      <th>66</th>\n",
       "      <td>Grassroots Kava House</td>\n",
       "      <td>Florida</td>\n",
       "      <td>St. Petersburg</td>\n",
       "    </tr>\n",
       "    <tr>\n",
       "      <th>67</th>\n",
       "      <td>Lava Lounge</td>\n",
       "      <td>Florida</td>\n",
       "      <td>St. Petersburg</td>\n",
       "    </tr>\n",
       "    <tr>\n",
       "      <th>68</th>\n",
       "      <td>Muddy Water Kava</td>\n",
       "      <td>Florida</td>\n",
       "      <td>St. Petersburg</td>\n",
       "    </tr>\n",
       "    <tr>\n",
       "      <th>69</th>\n",
       "      <td>InVision Creative Cafe</td>\n",
       "      <td>Florida</td>\n",
       "      <td>St. Petersburg</td>\n",
       "    </tr>\n",
       "    <tr>\n",
       "      <th>70</th>\n",
       "      <td>Vapor Road – Disston</td>\n",
       "      <td>Florida</td>\n",
       "      <td>St. Petersburg</td>\n",
       "    </tr>\n",
       "  </tbody>\n",
       "</table>\n",
       "</div>"
      ],
      "text/plain": [
       "                                  Name    State            City\n",
       "63  Mad Hatters Ethnobotanical Tea Bar  Florida  St. Petersburg\n",
       "64                 Vapor Road – Tyrone  Florida  St. Petersburg\n",
       "65                           Bula Kafe  Florida  St. Petersburg\n",
       "66               Grassroots Kava House  Florida  St. Petersburg\n",
       "67                         Lava Lounge  Florida  St. Petersburg\n",
       "68                    Muddy Water Kava  Florida  St. Petersburg\n",
       "69              InVision Creative Cafe  Florida  St. Petersburg\n",
       "70                Vapor Road – Disston  Florida  St. Petersburg"
      ]
     },
     "execution_count": 315,
     "metadata": {},
     "output_type": "execute_result"
    }
   ],
   "source": [
    "st_petersburg = select_florida[select_florida['City'] =='St. Petersburg']\n",
    "st_petersburg"
   ]
  },
  {
   "cell_type": "code",
   "execution_count": 316,
   "id": "10d551f8-4dbc-44a7-ae4a-af910259a8f3",
   "metadata": {},
   "outputs": [
    {
     "data": {
      "text/html": [
       "<div>\n",
       "<style scoped>\n",
       "    .dataframe tbody tr th:only-of-type {\n",
       "        vertical-align: middle;\n",
       "    }\n",
       "\n",
       "    .dataframe tbody tr th {\n",
       "        vertical-align: top;\n",
       "    }\n",
       "\n",
       "    .dataframe thead th {\n",
       "        text-align: right;\n",
       "    }\n",
       "</style>\n",
       "<table border=\"1\" class=\"dataframe\">\n",
       "  <thead>\n",
       "    <tr style=\"text-align: right;\">\n",
       "      <th></th>\n",
       "      <th>Name</th>\n",
       "      <th>State</th>\n",
       "      <th>City</th>\n",
       "    </tr>\n",
       "  </thead>\n",
       "  <tbody>\n",
       "    <tr>\n",
       "      <th>73</th>\n",
       "      <td>Steep Station</td>\n",
       "      <td>Florida</td>\n",
       "      <td>Tampa</td>\n",
       "    </tr>\n",
       "    <tr>\n",
       "      <th>74</th>\n",
       "      <td>SpookEasy Lounge</td>\n",
       "      <td>Florida</td>\n",
       "      <td>Tampa</td>\n",
       "    </tr>\n",
       "    <tr>\n",
       "      <th>75</th>\n",
       "      <td>Tampa Vapor – South Tampa</td>\n",
       "      <td>Florida</td>\n",
       "      <td>Tampa</td>\n",
       "    </tr>\n",
       "    <tr>\n",
       "      <th>76</th>\n",
       "      <td>Mad Chiller World Kava &amp; Waffles</td>\n",
       "      <td>Florida</td>\n",
       "      <td>Tampa</td>\n",
       "    </tr>\n",
       "  </tbody>\n",
       "</table>\n",
       "</div>"
      ],
      "text/plain": [
       "                                Name    State   City\n",
       "73                     Steep Station  Florida  Tampa\n",
       "74                  SpookEasy Lounge  Florida  Tampa\n",
       "75         Tampa Vapor – South Tampa  Florida  Tampa\n",
       "76  Mad Chiller World Kava & Waffles  Florida  Tampa"
      ]
     },
     "execution_count": 316,
     "metadata": {},
     "output_type": "execute_result"
    }
   ],
   "source": [
    "tampa = select_florida[select_florida['City'] =='Tampa']\n",
    "tampa"
   ]
  },
  {
   "cell_type": "markdown",
   "id": "8129d66d-a93b-419f-b82d-2d6e736ac4a2",
   "metadata": {},
   "source": [
    "**Because St. Petersburg and Tampa are very close, we should focus our analysis on those two areas.**"
   ]
  },
  {
   "cell_type": "code",
   "execution_count": 317,
   "id": "06348330-d1f7-4404-95c8-01165350f509",
   "metadata": {},
   "outputs": [
    {
     "data": {
      "text/html": [
       "<div>\n",
       "<style scoped>\n",
       "    .dataframe tbody tr th:only-of-type {\n",
       "        vertical-align: middle;\n",
       "    }\n",
       "\n",
       "    .dataframe tbody tr th {\n",
       "        vertical-align: top;\n",
       "    }\n",
       "\n",
       "    .dataframe thead th {\n",
       "        text-align: right;\n",
       "    }\n",
       "</style>\n",
       "<table border=\"1\" class=\"dataframe\">\n",
       "  <thead>\n",
       "    <tr style=\"text-align: right;\">\n",
       "      <th></th>\n",
       "      <th>Name</th>\n",
       "      <th>State</th>\n",
       "      <th>City</th>\n",
       "    </tr>\n",
       "  </thead>\n",
       "  <tbody>\n",
       "    <tr>\n",
       "      <th>63</th>\n",
       "      <td>Mad Hatters Ethnobotanical Tea Bar</td>\n",
       "      <td>Florida</td>\n",
       "      <td>St. Petersburg</td>\n",
       "    </tr>\n",
       "    <tr>\n",
       "      <th>64</th>\n",
       "      <td>Vapor Road – Tyrone</td>\n",
       "      <td>Florida</td>\n",
       "      <td>St. Petersburg</td>\n",
       "    </tr>\n",
       "    <tr>\n",
       "      <th>65</th>\n",
       "      <td>Bula Kafe</td>\n",
       "      <td>Florida</td>\n",
       "      <td>St. Petersburg</td>\n",
       "    </tr>\n",
       "    <tr>\n",
       "      <th>66</th>\n",
       "      <td>Grassroots Kava House</td>\n",
       "      <td>Florida</td>\n",
       "      <td>St. Petersburg</td>\n",
       "    </tr>\n",
       "    <tr>\n",
       "      <th>67</th>\n",
       "      <td>Lava Lounge</td>\n",
       "      <td>Florida</td>\n",
       "      <td>St. Petersburg</td>\n",
       "    </tr>\n",
       "    <tr>\n",
       "      <th>68</th>\n",
       "      <td>Muddy Water Kava</td>\n",
       "      <td>Florida</td>\n",
       "      <td>St. Petersburg</td>\n",
       "    </tr>\n",
       "    <tr>\n",
       "      <th>69</th>\n",
       "      <td>InVision Creative Cafe</td>\n",
       "      <td>Florida</td>\n",
       "      <td>St. Petersburg</td>\n",
       "    </tr>\n",
       "    <tr>\n",
       "      <th>70</th>\n",
       "      <td>Vapor Road – Disston</td>\n",
       "      <td>Florida</td>\n",
       "      <td>St. Petersburg</td>\n",
       "    </tr>\n",
       "    <tr>\n",
       "      <th>73</th>\n",
       "      <td>Steep Station</td>\n",
       "      <td>Florida</td>\n",
       "      <td>Tampa</td>\n",
       "    </tr>\n",
       "    <tr>\n",
       "      <th>74</th>\n",
       "      <td>SpookEasy Lounge</td>\n",
       "      <td>Florida</td>\n",
       "      <td>Tampa</td>\n",
       "    </tr>\n",
       "    <tr>\n",
       "      <th>75</th>\n",
       "      <td>Tampa Vapor – South Tampa</td>\n",
       "      <td>Florida</td>\n",
       "      <td>Tampa</td>\n",
       "    </tr>\n",
       "    <tr>\n",
       "      <th>76</th>\n",
       "      <td>Mad Chiller World Kava &amp; Waffles</td>\n",
       "      <td>Florida</td>\n",
       "      <td>Tampa</td>\n",
       "    </tr>\n",
       "  </tbody>\n",
       "</table>\n",
       "</div>"
      ],
      "text/plain": [
       "                                  Name    State            City\n",
       "63  Mad Hatters Ethnobotanical Tea Bar  Florida  St. Petersburg\n",
       "64                 Vapor Road – Tyrone  Florida  St. Petersburg\n",
       "65                           Bula Kafe  Florida  St. Petersburg\n",
       "66               Grassroots Kava House  Florida  St. Petersburg\n",
       "67                         Lava Lounge  Florida  St. Petersburg\n",
       "68                    Muddy Water Kava  Florida  St. Petersburg\n",
       "69              InVision Creative Cafe  Florida  St. Petersburg\n",
       "70                Vapor Road – Disston  Florida  St. Petersburg\n",
       "73                       Steep Station  Florida           Tampa\n",
       "74                    SpookEasy Lounge  Florida           Tampa\n",
       "75           Tampa Vapor – South Tampa  Florida           Tampa\n",
       "76    Mad Chiller World Kava & Waffles  Florida           Tampa"
      ]
     },
     "execution_count": 317,
     "metadata": {},
     "output_type": "execute_result"
    }
   ],
   "source": [
    "frames = [st_petersburg, tampa]\n",
    "final_list = pd.concat(frames)\n",
    "final_list"
   ]
  },
  {
   "cell_type": "code",
   "execution_count": 318,
   "id": "0892be49-e86f-467f-906e-a9eeb6a8deb1",
   "metadata": {},
   "outputs": [],
   "source": [
    "from geopy.geocoders import Nominatim"
   ]
  },
  {
   "cell_type": "code",
   "execution_count": 319,
   "id": "533a26ca-eb63-46da-907c-3097a089b16b",
   "metadata": {},
   "outputs": [
    {
     "name": "stdout",
     "output_type": "stream",
     "text": [
      "The geograpical coordinates of St. Petersburg are 27.7703796, -82.6695085.\n"
     ]
    }
   ],
   "source": [
    "address = 'St. Petersburg, FL'\n",
    "\n",
    "geolocator = Nominatim(user_agent=\"stpt_expoler\")\n",
    "location = geolocator.geocode(address)\n",
    "latitude = location.latitude\n",
    "longitude = location.longitude\n",
    "print('The geograpical coordinates of St. Petersburg are {}, {}.'.format(latitude, longitude))"
   ]
  },
  {
   "cell_type": "code",
   "execution_count": 320,
   "id": "9c67abf7-cbeb-4089-b92a-af142718e5b1",
   "metadata": {},
   "outputs": [
    {
     "name": "stdout",
     "output_type": "stream",
     "text": [
      "Your credentails:\n",
      "CLIENT_ID: U15IH31SPJWMOVTCUXZ4EDSNQDLYBQJKQVJ13MLJXPGVLISQ\n",
      "CLIENT_SECRET:NPRYGUQVHRM0TH5JA2DNLQS1YEOVUFHFHML4ZQUN0G54GZ4P\n",
      "27.7703796\n",
      "-82.6695085\n"
     ]
    }
   ],
   "source": [
    "CLIENT_ID = ''\n",
    "CLIENT_SECRET = ''\n",
    "ACCESS_TOKEN = ''\n",
    "VERSION = '20180604'\n",
    "LIMIT = 1\n",
    "print('Your credentails:')\n",
    "print('CLIENT_ID: ' + CLIENT_ID)\n",
    "print('CLIENT_SECRET:' + CLIENT_SECRET)\n",
    "print (latitude)\n",
    "print (longitude)\n",
    "radius = 10000"
   ]
  },
  {
   "cell_type": "markdown",
   "id": "1663371b-daa3-46f2-a731-ed86fcb31c31",
   "metadata": {},
   "source": [
    "#### Send the GET Request and examine the results"
   ]
  },
  {
   "cell_type": "markdown",
   "id": "9d8aec6d-0153-40f4-8c11-87bad2e6c6a2",
   "metadata": {},
   "source": [
    "Initial effort was to automate this process, but since the results were not consistent, in particular not exactly finding the name, we are researching one by one. This will also allow time to review what was found and if any pertinent information is shown."
   ]
  },
  {
   "cell_type": "code",
   "execution_count": 351,
   "id": "66a4f0e0-0415-4c88-8804-4a522d149e1e",
   "metadata": {},
   "outputs": [
    {
     "name": "stdout",
     "output_type": "stream",
     "text": [
      "Mad Hatters Ethnobotanical Tea Bar .... OK!\n"
     ]
    }
   ],
   "source": [
    "search_query1 = 'Mad Hatters Ethnobotanical Tea Bar'\n",
    "print(search_query1 + ' .... OK!')\n",
    "\n",
    "url1 = 'https://api.foursquare.com/v2/venues/search?client_id={}&client_secret={}&ll={},{}&oauth_token={}&v={}&query={}&radius={}&limit={}'.format(CLIENT_ID, CLIENT_SECRET, latitude, longitude,ACCESS_TOKEN, VERSION, search_query1, radius, LIMIT)\n",
    "results1 = requests.get(url1).json()"
   ]
  },
  {
   "cell_type": "code",
   "execution_count": 322,
   "id": "459a712e-b57e-46c7-9ecf-fc33867b9a27",
   "metadata": {},
   "outputs": [],
   "source": [
    "id=results1['response']['venues'][0]['id']\n",
    "lat=results1['response']['venues'][0]['location']['lat']\n",
    "long=results1['response']['venues'][0]['location']['lng']\n",
    "zip=results1['response']['venues'][0]['location']['postalCode']\n",
    "address=results1['response']['venues'][0]['location']['formattedAddress']\n",
    "name=results1['response']['venues'][0]['categories'][0]['name']\n",
    "delivery_name=results1['response']['venues'][0]['delivery']['provider']['name']\n",
    "delivery_url=results1['response']['venues'][0]['delivery']['url']\n",
    "final_list.loc[63:,'venue_id']=id\n",
    "final_list.loc[63:,'lat']=lat\n",
    "final_list.loc[63:,'long']=long\n",
    "final_list.loc[63:,'zip']=zip\n",
    "final_list.loc[63:,'category_name']=name\n",
    "final_list.loc[63:,'address']=json.dumps(address)\n",
    "final_list.loc[63:,'delivery_provider']=delivery_name\n",
    "final_list.loc[63:,'delivery_url']=delivery_url"
   ]
  },
  {
   "cell_type": "code",
   "execution_count": 323,
   "id": "1fc48c7e-3cf8-4261-a0ed-2eadaef7c337",
   "metadata": {},
   "outputs": [
    {
     "name": "stdout",
     "output_type": "stream",
     "text": [
      "Vapor Road – Tyrone .... OK!\n"
     ]
    }
   ],
   "source": [
    "search_query2 = 'Vapor Road – Tyrone'\n",
    "print(search_query2 + ' .... OK!')\n",
    "url2 = 'https://api.foursquare.com/v2/venues/search?client_id={}&client_secret={}&ll={},{}&oauth_token={}&v={}&query={}&radius={}&limit={}'.format(CLIENT_ID, CLIENT_SECRET, latitude, longitude,ACCESS_TOKEN, VERSION, search_query2, radius, LIMIT)\n",
    "results2 = requests.get(url2).json()"
   ]
  },
  {
   "cell_type": "code",
   "execution_count": 324,
   "id": "4709830c-ecbf-4484-be2b-c906128b993c",
   "metadata": {},
   "outputs": [],
   "source": [
    "id=results2['response']['venues'][0]['id']\n",
    "lat=results2['response']['venues'][0]['location']['lat']\n",
    "long=results2['response']['venues'][0]['location']['lng']\n",
    "zip=results2['response']['venues'][0]['location']['postalCode']\n",
    "address=results2['response']['venues'][0]['location']['formattedAddress']\n",
    "name=results2['response']['venues'][0]['categories'][0]['name']\n",
    "delivery_name=results2['response']['venues'][0]['delivery']['provider']['name']\n",
    "delivery_url=results2['response']['venues'][0]['delivery']['url']\n",
    "final_list.loc[64:,'venue_id']=id\n",
    "final_list.loc[64:,'lat']=lat\n",
    "final_list.loc[64:,'long']=long\n",
    "final_list.loc[64:,'zip']=zip\n",
    "final_list.loc[64:,'address']=json.dumps(address)\n",
    "final_list.loc[64:,'category_name']=name\n",
    "final_list.loc[64:,'delivery_provider']=delivery_name\n",
    "final_list.loc[64:,'delivery_url']=delivery_url"
   ]
  },
  {
   "cell_type": "code",
   "execution_count": 325,
   "id": "49442152-92a1-4590-98c1-5f0b8323ddba",
   "metadata": {},
   "outputs": [
    {
     "name": "stdout",
     "output_type": "stream",
     "text": [
      "Bula Kafe .... OK!\n"
     ]
    }
   ],
   "source": [
    "search_query3 = 'Bula Kafe'\n",
    "print(search_query3 + ' .... OK!')\n",
    "url3 = 'https://api.foursquare.com/v2/venues/search?client_id={}&client_secret={}&ll={},{}&oauth_token={}&v={}&query={}&radius={}&limit={}'.format(CLIENT_ID, CLIENT_SECRET, latitude, longitude,ACCESS_TOKEN, VERSION, search_query3, radius, LIMIT)\n",
    "results3 = requests.get(url3).json()"
   ]
  },
  {
   "cell_type": "code",
   "execution_count": 326,
   "id": "55227392-7b99-49d3-9455-26d3e70434d2",
   "metadata": {},
   "outputs": [],
   "source": [
    "id=results3['response']['venues'][0]['id']\n",
    "lat=results3['response']['venues'][0]['location']['lat']\n",
    "long=results3['response']['venues'][0]['location']['lng']\n",
    "zip=results3['response']['venues'][0]['location']['postalCode']\n",
    "address=results3['response']['venues'][0]['location']['formattedAddress']\n",
    "name=results3['response']['venues'][0]['categories'][0]['name']\n",
    "delivery_name=results3['response']['venues'][0]['delivery']['provider']['name']\n",
    "delivery_url=results3['response']['venues'][0]['delivery']['url']\n",
    "final_list.loc[65:,'venue_id']=id\n",
    "final_list.loc[65:,'lat']=lat\n",
    "final_list.loc[65:,'long']=long\n",
    "final_list.loc[65:,'zip']=zip\n",
    "final_list.loc[65:,'category_name']=name\n",
    "final_list.loc[65:,'address']=json.dumps(address)\n",
    "final_list.loc[65:,'delivery_provider']=delivery_name\n",
    "final_list.loc[65:,'delivery_url']=delivery_url"
   ]
  },
  {
   "cell_type": "code",
   "execution_count": 327,
   "id": "1f60555d-432d-48a1-9fe2-b80016c12883",
   "metadata": {},
   "outputs": [
    {
     "name": "stdout",
     "output_type": "stream",
     "text": [
      "Grassroots Kava House .... OK!\n"
     ]
    }
   ],
   "source": [
    "search_query4 = 'Grassroots Kava House'\n",
    "print(search_query4 + ' .... OK!')\n",
    "url4 = 'https://api.foursquare.com/v2/venues/search?client_id={}&client_secret={}&ll={},{}&oauth_token={}&v={}&query={}&radius={}&limit={}'.format(CLIENT_ID, CLIENT_SECRET, latitude, longitude,ACCESS_TOKEN, VERSION, search_query4, radius, LIMIT)\n",
    "results4 = requests.get(url4).json()"
   ]
  },
  {
   "cell_type": "code",
   "execution_count": 328,
   "id": "8e8d4f21-fe0a-4473-bc19-0ce878c044fb",
   "metadata": {},
   "outputs": [],
   "source": [
    "id=results4['response']['venues'][0]['id']\n",
    "lat=results4['response']['venues'][0]['location']['lat']\n",
    "long=results4['response']['venues'][0]['location']['lng']\n",
    "zip=results4['response']['venues'][0]['location']['postalCode']\n",
    "address=results4['response']['venues'][0]['location']['formattedAddress']\n",
    "name=results4['response']['venues'][0]['categories'][0]['name']\n",
    "delivery_name=results4['response']['venues'][0]['delivery']['provider']['name']\n",
    "delivery_url=results4['response']['venues'][0]['delivery']['url']\n",
    "final_list.loc[66:,'venue_id']=id\n",
    "final_list.loc[66:,'lat']=lat\n",
    "final_list.loc[66:,'long']=long\n",
    "final_list.loc[66:,'zip']=zip\n",
    "final_list.loc[66:,'category_name']=name\n",
    "final_list.loc[66:,'address']=json.dumps(address)\n",
    "final_list.loc[66:,'delivery_provider']=delivery_name\n",
    "final_list.loc[66:,'delivery_url']=delivery_url"
   ]
  },
  {
   "cell_type": "code",
   "execution_count": 329,
   "id": "f6747066-18ed-4f29-a00c-04ce38fa0f5c",
   "metadata": {},
   "outputs": [
    {
     "name": "stdout",
     "output_type": "stream",
     "text": [
      "Lava Lounge .... OK!\n"
     ]
    }
   ],
   "source": [
    "search_query5 = 'Lava Lounge'\n",
    "print(search_query5 + ' .... OK!')\n",
    "url5 = 'https://api.foursquare.com/v2/venues/search?client_id={}&client_secret={}&ll={},{}&oauth_token={}&v={}&query={}&radius={}&limit={}'.format(CLIENT_ID, CLIENT_SECRET, latitude, longitude,ACCESS_TOKEN, VERSION, search_query5, radius, LIMIT)\n",
    "results5 = requests.get(url5).json()"
   ]
  },
  {
   "cell_type": "code",
   "execution_count": 330,
   "id": "6de54a80-9f3b-473f-8905-d8b9e07fa685",
   "metadata": {},
   "outputs": [],
   "source": [
    "id=results5['response']['venues'][0]['id']\n",
    "lat=results5['response']['venues'][0]['location']['lat']\n",
    "long=results5['response']['venues'][0]['location']['lng']\n",
    "zip=results5['response']['venues'][0]['location']['postalCode']\n",
    "address=results5['response']['venues'][0]['location']['formattedAddress']\n",
    "name=results5['response']['venues'][0]['categories'][0]['name']\n",
    "delivery_name=''\n",
    "delivery_url=''\n",
    "final_list.loc[67:,'venue_id']=id\n",
    "final_list.loc[67:,'lat']=lat\n",
    "final_list.loc[67:,'long']=long\n",
    "final_list.loc[67:,'zip']=zip\n",
    "final_list.loc[67:,'category_name']=name\n",
    "final_list.loc[67:,'address']=json.dumps(address)\n",
    "final_list.loc[67:,'delivery_provider']=delivery_name\n",
    "final_list.loc[67:,'delivery_url']=delivery_url"
   ]
  },
  {
   "cell_type": "code",
   "execution_count": 331,
   "id": "7ad2645c-ec17-4112-a00d-954d7831026d",
   "metadata": {},
   "outputs": [
    {
     "name": "stdout",
     "output_type": "stream",
     "text": [
      "Muddy Water Kava .... OK!\n"
     ]
    }
   ],
   "source": [
    "search_query6 = 'Muddy Water Kava'\n",
    "print(search_query6 + ' .... OK!')\n",
    "url6 = 'https://api.foursquare.com/v2/venues/search?client_id={}&client_secret={}&ll={},{}&oauth_token={}&v={}&query={}&radius={}&limit={}'.format(CLIENT_ID, CLIENT_SECRET, latitude, longitude,ACCESS_TOKEN, VERSION, search_query6, radius, LIMIT)\n",
    "results6 = requests.get(url6).json()"
   ]
  },
  {
   "cell_type": "code",
   "execution_count": 332,
   "id": "8be73f7f-6149-4787-94a2-37ea86e14972",
   "metadata": {},
   "outputs": [],
   "source": [
    "id=results6['response']['venues'][0]['id']\n",
    "lat=results6['response']['venues'][0]['location']['lat']\n",
    "long=results6['response']['venues'][0]['location']['lng']\n",
    "zip=33703\n",
    "address=results6['response']['venues'][0]['location']['formattedAddress']\n",
    "name=results6['response']['venues'][0]['categories'][0]['name']\n",
    "delivery_name=''\n",
    "delivery_url=''\n",
    "final_list.loc[68:,'venue_id']=id\n",
    "final_list.loc[68:,'lat']=lat\n",
    "final_list.loc[68:,'long']=long\n",
    "final_list.loc[68:,'zip']=zip\n",
    "final_list.loc[68:,'category_name']=name\n",
    "final_list.loc[68:,'address']=json.dumps(address)\n",
    "final_list.loc[68:,'delivery_provider']=delivery_name\n",
    "final_list.loc[68:,'delivery_url']=delivery_url"
   ]
  },
  {
   "cell_type": "code",
   "execution_count": 333,
   "id": "f170cb1d-c219-4b97-bf44-7c5a9a891983",
   "metadata": {},
   "outputs": [
    {
     "name": "stdout",
     "output_type": "stream",
     "text": [
      "InVision Creative Cafe .... OK!\n"
     ]
    }
   ],
   "source": [
    "search_query7 = 'InVision Creative Cafe'\n",
    "print(search_query7 + ' .... OK!')\n",
    "url7 = 'https://api.foursquare.com/v2/venues/search?client_id={}&client_secret={}&ll={},{}&oauth_token={}&v={}&query={}&radius={}&limit={}'.format(CLIENT_ID, CLIENT_SECRET, latitude, longitude,ACCESS_TOKEN, VERSION, search_query7, radius, LIMIT)\n",
    "results7 = requests.get(url7).json()"
   ]
  },
  {
   "cell_type": "code",
   "execution_count": 334,
   "id": "15efee9d-a138-483f-92d6-a6095079a9d6",
   "metadata": {},
   "outputs": [],
   "source": [
    "id=results7['response']['venues'][0]['id']\n",
    "lat=results7['response']['venues'][0]['location']['lat']\n",
    "long=results7['response']['venues'][0]['location']['lng']\n",
    "zip=results7['response']['venues'][0]['location']['postalCode']\n",
    "address=results7['response']['venues'][0]['location']['formattedAddress']\n",
    "name=results7['response']['venues'][0]['categories'][0]['name']\n",
    "delivery_name=results7['response']['venues'][0]['delivery']['provider']['name']\n",
    "delivery_url=results7['response']['venues'][0]['delivery']['url']\n",
    "final_list.loc[69:,'venue_id']=id\n",
    "final_list.loc[69:,'lat']=lat\n",
    "final_list.loc[69:,'long']=long\n",
    "final_list.loc[69:,'zip']=zip\n",
    "final_list.loc[69:,'category_name']=name\n",
    "final_list.loc[69:,'address']=json.dumps(address)\n",
    "final_list.loc[69:,'delivery_provider']=delivery_name\n",
    "final_list.loc[69:,'delivery_url']=delivery_url"
   ]
  },
  {
   "cell_type": "code",
   "execution_count": 335,
   "id": "a63f5638-d946-4401-b844-c525e547b132",
   "metadata": {},
   "outputs": [
    {
     "name": "stdout",
     "output_type": "stream",
     "text": [
      "Vapor Road – Disston .... OK!\n"
     ]
    }
   ],
   "source": [
    "search_query8 = 'Vapor Road – Disston'\n",
    "print(search_query8 + ' .... OK!')\n",
    "url8 = 'https://api.foursquare.com/v2/venues/search?client_id={}&client_secret={}&ll={},{}&oauth_token={}&v={}&query={}&radius={}&limit={}'.format(CLIENT_ID, CLIENT_SECRET, latitude, longitude,ACCESS_TOKEN, VERSION, search_query8, radius, LIMIT)\n",
    "results8 = requests.get(url8).json()"
   ]
  },
  {
   "cell_type": "code",
   "execution_count": 336,
   "id": "869b43e4-3561-47ae-a6ad-e12fe66b861a",
   "metadata": {},
   "outputs": [],
   "source": [
    "id=results8['response']['venues'][0]['id']\n",
    "lat=results8['response']['venues'][0]['location']['lat']\n",
    "long=results8['response']['venues'][0]['location']['lng']\n",
    "zip=results8['response']['venues'][0]['location']['postalCode']\n",
    "address=results8['response']['venues'][0]['location']['formattedAddress']\n",
    "name=results8['response']['venues'][0]['categories'][0]['name']\n",
    "delivery_name=results8['response']['venues'][0]['delivery']['provider']['name']\n",
    "delivery_url=results8['response']['venues'][0]['delivery']['url']\n",
    "final_list.loc[70:,'venue_id']=id\n",
    "final_list.loc[70:,'lat']=lat\n",
    "final_list.loc[70:,'long']=long\n",
    "final_list.loc[70:,'zip']=zip\n",
    "final_list.loc[70:,'category_name']=name\n",
    "final_list.loc[70:,'address']=json.dumps(address)\n",
    "final_list.loc[70:,'delivery_provider']=delivery_name\n",
    "final_list.loc[70:,'delivery_url']=delivery_url"
   ]
  },
  {
   "cell_type": "markdown",
   "id": "0d4830bc-d5a0-4024-b390-a8052fe9084e",
   "metadata": {},
   "source": [
    "Now we need to review Kava Bars in Tampa"
   ]
  },
  {
   "cell_type": "code",
   "execution_count": 337,
   "id": "dd6a25c9-9cf1-451f-99a6-1c48d8139d57",
   "metadata": {},
   "outputs": [
    {
     "name": "stdout",
     "output_type": "stream",
     "text": [
      "Steep Station .... OK!\n"
     ]
    }
   ],
   "source": [
    "search_query9 = 'Steep Station'\n",
    "print(search_query9 + ' .... OK!')\n",
    "LIMIT = 1\n",
    "radius = 50000\n",
    "url9 = 'https://api.foursquare.com/v2/venues/search?client_id={}&client_secret={}&ll={},{}&oauth_token={}&v={}&query={}&radius={}&limit={}'.format(CLIENT_ID, CLIENT_SECRET, latitude, longitude,ACCESS_TOKEN, VERSION, search_query9, radius, LIMIT)\n",
    "results9 = requests.get(url9).json()"
   ]
  },
  {
   "cell_type": "code",
   "execution_count": 338,
   "id": "f8a5c2e2-7a45-40a3-a977-5cfd8ec8d9d7",
   "metadata": {},
   "outputs": [],
   "source": [
    "id=results9['response']['venues'][0]['id']\n",
    "lat=results9['response']['venues'][0]['location']['lat']\n",
    "long=results9['response']['venues'][0]['location']['lng']\n",
    "zip=results9['response']['venues'][0]['location']['postalCode']\n",
    "address=results9['response']['venues'][0]['location']['formattedAddress']\n",
    "name=results9['response']['venues'][0]['categories'][0]['name']\n",
    "delivery_name=results9['response']['venues'][0]['delivery']['provider']['name']\n",
    "delivery_url=results9['response']['venues'][0]['delivery']['url']\n",
    "final_list.loc[73:,'venue_id']=id\n",
    "final_list.loc[73:,'lat']=lat\n",
    "final_list.loc[73:,'long']=long\n",
    "final_list.loc[73:,'zip']=zip\n",
    "final_list.loc[73:,'category_name']=name\n",
    "final_list.loc[73:,'address']=json.dumps(address)\n",
    "final_list.loc[73:,'delivery_provider']=delivery_name\n",
    "final_list.loc[73:,'delivery_url']=delivery_url"
   ]
  },
  {
   "cell_type": "code",
   "execution_count": 339,
   "id": "15b96565-f599-48c8-a9a9-7f3e5c3061a8",
   "metadata": {},
   "outputs": [
    {
     "name": "stdout",
     "output_type": "stream",
     "text": [
      "SpookEasy Lounge .... OK!\n"
     ]
    }
   ],
   "source": [
    "search_query10 = 'SpookEasy Lounge'\n",
    "print(search_query10 + ' .... OK!')\n",
    "url10 = 'https://api.foursquare.com/v2/venues/search?client_id={}&client_secret={}&ll={},{}&oauth_token={}&v={}&query={}&radius={}&limit={}'.format(CLIENT_ID, CLIENT_SECRET, latitude, longitude,ACCESS_TOKEN, VERSION, search_query10, radius, LIMIT)\n",
    "results10 = requests.get(url10).json()"
   ]
  },
  {
   "cell_type": "code",
   "execution_count": 340,
   "id": "de5e0eba-04c8-4cf4-8fbc-6485804c5cd0",
   "metadata": {},
   "outputs": [],
   "source": [
    "id=results10['response']['venues'][0]['id']\n",
    "lat=results10['response']['venues'][0]['location']['lat']\n",
    "long=results10['response']['venues'][0]['location']['lng']\n",
    "zip=results10['response']['venues'][0]['location']['postalCode']\n",
    "address=results10['response']['venues'][0]['location']['formattedAddress']\n",
    "name=results10['response']['venues'][0]['categories'][0]['name']\n",
    "delivery_name=results10['response']['venues'][0]['delivery']['provider']['name']\n",
    "delivery_url=results10['response']['venues'][0]['delivery']['url']\n",
    "final_list.loc[74:,'venue_id']=id\n",
    "final_list.loc[74:,'lat']=lat\n",
    "final_list.loc[74:,'long']=long\n",
    "final_list.loc[74:,'zip']=zip\n",
    "final_list.loc[74:,'category_name']=name\n",
    "final_list.loc[74:,'address']=json.dumps(address)\n",
    "final_list.loc[74:,'delivery_provider']=delivery_name\n",
    "final_list.loc[74:,'delivery_url']=delivery_url"
   ]
  },
  {
   "cell_type": "code",
   "execution_count": 341,
   "id": "cebed90c-3486-4a64-828c-abaf8701428c",
   "metadata": {},
   "outputs": [
    {
     "name": "stdout",
     "output_type": "stream",
     "text": [
      "Tampa Vapor .... OK!\n"
     ]
    }
   ],
   "source": [
    "search_query11 = 'Tampa Vapor'\n",
    "print(search_query11 + ' .... OK!')\n",
    "url11 = 'https://api.foursquare.com/v2/venues/search?client_id={}&client_secret={}&ll={},{}&oauth_token={}&v={}&query={}&radius={}&limit={}'.format(CLIENT_ID, CLIENT_SECRET, latitude, longitude,ACCESS_TOKEN, VERSION, search_query11, radius, LIMIT)\n",
    "results11 = requests.get(url11).json()"
   ]
  },
  {
   "cell_type": "code",
   "execution_count": 342,
   "id": "c74ca124-563e-4eda-a76e-923d7712e26e",
   "metadata": {},
   "outputs": [],
   "source": [
    "id=results11['response']['venues'][0]['id']\n",
    "lat=results11['response']['venues'][0]['location']['lat']\n",
    "long=results11['response']['venues'][0]['location']['lng']\n",
    "zip=results11['response']['venues'][0]['location']['postalCode']\n",
    "address=results11['response']['venues'][0]['location']['formattedAddress']\n",
    "name=results11['response']['venues'][0]['categories'][0]['name']\n",
    "delivery_name=''\n",
    "delivery_url=''\n",
    "final_list.loc[75:,'venue_id']=id\n",
    "final_list.loc[75:,'lat']=lat\n",
    "final_list.loc[75:,'long']=long\n",
    "final_list.loc[75:,'zip']=zip\n",
    "final_list.loc[75:,'category_name']=name\n",
    "final_list.loc[75:,'address']=json.dumps(address)\n",
    "final_list.loc[75:,'delivery_provider']=delivery_name\n",
    "final_list.loc[75:,'delivery_url']=delivery_url"
   ]
  },
  {
   "cell_type": "code",
   "execution_count": 343,
   "id": "432d62e8-95be-4b73-99a7-408465d2fdfc",
   "metadata": {},
   "outputs": [
    {
     "name": "stdout",
     "output_type": "stream",
     "text": [
      "Mad Chiller World Kava & Waffles .... OK!\n"
     ]
    }
   ],
   "source": [
    "search_query15 = 'Mad Chiller World Kava & Waffles'\n",
    "print(search_query15 + ' .... OK!')\n",
    "url15 = 'https://api.foursquare.com/v2/venues/search?client_id={}&client_secret={}&ll={},{}&oauth_token={}&v={}&query={}&radius={}&limit={}'.format(CLIENT_ID, CLIENT_SECRET, latitude, longitude,ACCESS_TOKEN, VERSION, search_query15, radius, LIMIT)\n",
    "results15 = requests.get(url15).json()"
   ]
  },
  {
   "cell_type": "code",
   "execution_count": 344,
   "id": "458b92f1-9dad-4cd6-a19f-f8701a8df110",
   "metadata": {},
   "outputs": [],
   "source": [
    "id=results15['response']['venues'][0]['id']\n",
    "lat=results15['response']['venues'][0]['location']['lat']\n",
    "long=results15['response']['venues'][0]['location']['lng']\n",
    "zip=results15['response']['venues'][0]['location']['postalCode']\n",
    "address=results15['response']['venues'][0]['location']['formattedAddress']\n",
    "name=results15['response']['venues'][0]['categories'][0]['name']\n",
    "delivery_name=results15['response']['venues'][0]['delivery']['provider']['name']\n",
    "delivery_url=results15['response']['venues'][0]['delivery']['url']\n",
    "final_list.loc[76:,'venue_id']=id\n",
    "final_list.loc[76:,'lat']=lat\n",
    "final_list.loc[76:,'long']=long\n",
    "final_list.loc[76:,'zip']=zip\n",
    "final_list.loc[76:,'category_name']=name\n",
    "final_list.loc[76:,'address']=json.dumps(address)\n",
    "final_list.loc[76:,'delivery_provider']=delivery_name\n",
    "final_list.loc[76:,'delivery_url']=delivery_url"
   ]
  },
  {
   "cell_type": "markdown",
   "id": "59a6f0c4-58a8-464e-a48f-7b6ea15382c8",
   "metadata": {},
   "source": [
    "Type of Business:"
   ]
  },
  {
   "cell_type": "code",
   "execution_count": 345,
   "id": "46a171ce-66f0-4095-b584-deedcfe28d90",
   "metadata": {},
   "outputs": [
    {
     "data": {
      "text/plain": [
       "array(['Tea Room', 'Vape Store', 'Café', 'Lounge', 'Smoke Shop'],\n",
       "      dtype=object)"
      ]
     },
     "execution_count": 345,
     "metadata": {},
     "output_type": "execute_result"
    }
   ],
   "source": [
    "final_list['category_name'].unique()"
   ]
  },
  {
   "cell_type": "code",
   "execution_count": 346,
   "id": "80ec9fc5-39dc-4cb3-8c0c-a337bee9b074",
   "metadata": {},
   "outputs": [
    {
     "data": {
      "text/html": [
       "<div>\n",
       "<style scoped>\n",
       "    .dataframe tbody tr th:only-of-type {\n",
       "        vertical-align: middle;\n",
       "    }\n",
       "\n",
       "    .dataframe tbody tr th {\n",
       "        vertical-align: top;\n",
       "    }\n",
       "\n",
       "    .dataframe thead th {\n",
       "        text-align: right;\n",
       "    }\n",
       "</style>\n",
       "<table border=\"1\" class=\"dataframe\">\n",
       "  <thead>\n",
       "    <tr style=\"text-align: right;\">\n",
       "      <th></th>\n",
       "      <th>Name</th>\n",
       "      <th>State</th>\n",
       "      <th>City</th>\n",
       "      <th>venue_id</th>\n",
       "      <th>lat</th>\n",
       "      <th>long</th>\n",
       "      <th>zip</th>\n",
       "      <th>address</th>\n",
       "      <th>delivery_provider</th>\n",
       "      <th>delivery_url</th>\n",
       "    </tr>\n",
       "    <tr>\n",
       "      <th>category_name</th>\n",
       "      <th></th>\n",
       "      <th></th>\n",
       "      <th></th>\n",
       "      <th></th>\n",
       "      <th></th>\n",
       "      <th></th>\n",
       "      <th></th>\n",
       "      <th></th>\n",
       "      <th></th>\n",
       "      <th></th>\n",
       "    </tr>\n",
       "  </thead>\n",
       "  <tbody>\n",
       "    <tr>\n",
       "      <th>Café</th>\n",
       "      <td>1</td>\n",
       "      <td>1</td>\n",
       "      <td>1</td>\n",
       "      <td>1</td>\n",
       "      <td>1</td>\n",
       "      <td>1</td>\n",
       "      <td>1</td>\n",
       "      <td>1</td>\n",
       "      <td>1</td>\n",
       "      <td>1</td>\n",
       "    </tr>\n",
       "    <tr>\n",
       "      <th>Lounge</th>\n",
       "      <td>1</td>\n",
       "      <td>1</td>\n",
       "      <td>1</td>\n",
       "      <td>1</td>\n",
       "      <td>1</td>\n",
       "      <td>1</td>\n",
       "      <td>1</td>\n",
       "      <td>1</td>\n",
       "      <td>1</td>\n",
       "      <td>1</td>\n",
       "    </tr>\n",
       "    <tr>\n",
       "      <th>Smoke Shop</th>\n",
       "      <td>1</td>\n",
       "      <td>1</td>\n",
       "      <td>1</td>\n",
       "      <td>1</td>\n",
       "      <td>1</td>\n",
       "      <td>1</td>\n",
       "      <td>1</td>\n",
       "      <td>1</td>\n",
       "      <td>1</td>\n",
       "      <td>1</td>\n",
       "    </tr>\n",
       "    <tr>\n",
       "      <th>Tea Room</th>\n",
       "      <td>7</td>\n",
       "      <td>7</td>\n",
       "      <td>7</td>\n",
       "      <td>7</td>\n",
       "      <td>7</td>\n",
       "      <td>7</td>\n",
       "      <td>7</td>\n",
       "      <td>7</td>\n",
       "      <td>7</td>\n",
       "      <td>7</td>\n",
       "    </tr>\n",
       "    <tr>\n",
       "      <th>Vape Store</th>\n",
       "      <td>2</td>\n",
       "      <td>2</td>\n",
       "      <td>2</td>\n",
       "      <td>2</td>\n",
       "      <td>2</td>\n",
       "      <td>2</td>\n",
       "      <td>2</td>\n",
       "      <td>2</td>\n",
       "      <td>2</td>\n",
       "      <td>2</td>\n",
       "    </tr>\n",
       "  </tbody>\n",
       "</table>\n",
       "</div>"
      ],
      "text/plain": [
       "               Name  State  City  venue_id  lat  long  zip  address  \\\n",
       "category_name                                                         \n",
       "Café              1      1     1         1    1     1    1        1   \n",
       "Lounge            1      1     1         1    1     1    1        1   \n",
       "Smoke Shop        1      1     1         1    1     1    1        1   \n",
       "Tea Room          7      7     7         7    7     7    7        7   \n",
       "Vape Store        2      2     2         2    2     2    2        2   \n",
       "\n",
       "               delivery_provider  delivery_url  \n",
       "category_name                                   \n",
       "Café                           1             1  \n",
       "Lounge                         1             1  \n",
       "Smoke Shop                     1             1  \n",
       "Tea Room                       7             7  \n",
       "Vape Store                     2             2  "
      ]
     },
     "execution_count": 346,
     "metadata": {},
     "output_type": "execute_result"
    }
   ],
   "source": [
    "final_list.groupby('category_name').count()"
   ]
  },
  {
   "cell_type": "code",
   "execution_count": 347,
   "id": "0f4dd04c-70a3-4528-b48c-cd4ee688fe70",
   "metadata": {},
   "outputs": [
    {
     "data": {
      "text/html": [
       "<div>\n",
       "<style scoped>\n",
       "    .dataframe tbody tr th:only-of-type {\n",
       "        vertical-align: middle;\n",
       "    }\n",
       "\n",
       "    .dataframe tbody tr th {\n",
       "        vertical-align: top;\n",
       "    }\n",
       "\n",
       "    .dataframe thead th {\n",
       "        text-align: right;\n",
       "    }\n",
       "</style>\n",
       "<table border=\"1\" class=\"dataframe\">\n",
       "  <thead>\n",
       "    <tr style=\"text-align: right;\">\n",
       "      <th></th>\n",
       "      <th>Name</th>\n",
       "      <th>State</th>\n",
       "      <th>City</th>\n",
       "      <th>venue_id</th>\n",
       "      <th>lat</th>\n",
       "      <th>long</th>\n",
       "      <th>category_name</th>\n",
       "      <th>address</th>\n",
       "      <th>delivery_provider</th>\n",
       "      <th>delivery_url</th>\n",
       "    </tr>\n",
       "    <tr>\n",
       "      <th>zip</th>\n",
       "      <th></th>\n",
       "      <th></th>\n",
       "      <th></th>\n",
       "      <th></th>\n",
       "      <th></th>\n",
       "      <th></th>\n",
       "      <th></th>\n",
       "      <th></th>\n",
       "      <th></th>\n",
       "      <th></th>\n",
       "    </tr>\n",
       "  </thead>\n",
       "  <tbody>\n",
       "    <tr>\n",
       "      <th>33703</th>\n",
       "      <td>1</td>\n",
       "      <td>1</td>\n",
       "      <td>1</td>\n",
       "      <td>1</td>\n",
       "      <td>1</td>\n",
       "      <td>1</td>\n",
       "      <td>1</td>\n",
       "      <td>1</td>\n",
       "      <td>1</td>\n",
       "      <td>1</td>\n",
       "    </tr>\n",
       "    <tr>\n",
       "      <th>33605</th>\n",
       "      <td>1</td>\n",
       "      <td>1</td>\n",
       "      <td>1</td>\n",
       "      <td>1</td>\n",
       "      <td>1</td>\n",
       "      <td>1</td>\n",
       "      <td>1</td>\n",
       "      <td>1</td>\n",
       "      <td>1</td>\n",
       "      <td>1</td>\n",
       "    </tr>\n",
       "    <tr>\n",
       "      <th>33606</th>\n",
       "      <td>1</td>\n",
       "      <td>1</td>\n",
       "      <td>1</td>\n",
       "      <td>1</td>\n",
       "      <td>1</td>\n",
       "      <td>1</td>\n",
       "      <td>1</td>\n",
       "      <td>1</td>\n",
       "      <td>1</td>\n",
       "      <td>1</td>\n",
       "    </tr>\n",
       "    <tr>\n",
       "      <th>33618</th>\n",
       "      <td>1</td>\n",
       "      <td>1</td>\n",
       "      <td>1</td>\n",
       "      <td>1</td>\n",
       "      <td>1</td>\n",
       "      <td>1</td>\n",
       "      <td>1</td>\n",
       "      <td>1</td>\n",
       "      <td>1</td>\n",
       "      <td>1</td>\n",
       "    </tr>\n",
       "    <tr>\n",
       "      <th>33629</th>\n",
       "      <td>1</td>\n",
       "      <td>1</td>\n",
       "      <td>1</td>\n",
       "      <td>1</td>\n",
       "      <td>1</td>\n",
       "      <td>1</td>\n",
       "      <td>1</td>\n",
       "      <td>1</td>\n",
       "      <td>1</td>\n",
       "      <td>1</td>\n",
       "    </tr>\n",
       "    <tr>\n",
       "      <th>33705</th>\n",
       "      <td>2</td>\n",
       "      <td>2</td>\n",
       "      <td>2</td>\n",
       "      <td>2</td>\n",
       "      <td>2</td>\n",
       "      <td>2</td>\n",
       "      <td>2</td>\n",
       "      <td>2</td>\n",
       "      <td>2</td>\n",
       "      <td>2</td>\n",
       "    </tr>\n",
       "    <tr>\n",
       "      <th>33709</th>\n",
       "      <td>1</td>\n",
       "      <td>1</td>\n",
       "      <td>1</td>\n",
       "      <td>1</td>\n",
       "      <td>1</td>\n",
       "      <td>1</td>\n",
       "      <td>1</td>\n",
       "      <td>1</td>\n",
       "      <td>1</td>\n",
       "      <td>1</td>\n",
       "    </tr>\n",
       "    <tr>\n",
       "      <th>33710</th>\n",
       "      <td>2</td>\n",
       "      <td>2</td>\n",
       "      <td>2</td>\n",
       "      <td>2</td>\n",
       "      <td>2</td>\n",
       "      <td>2</td>\n",
       "      <td>2</td>\n",
       "      <td>2</td>\n",
       "      <td>2</td>\n",
       "      <td>2</td>\n",
       "    </tr>\n",
       "    <tr>\n",
       "      <th>33713</th>\n",
       "      <td>1</td>\n",
       "      <td>1</td>\n",
       "      <td>1</td>\n",
       "      <td>1</td>\n",
       "      <td>1</td>\n",
       "      <td>1</td>\n",
       "      <td>1</td>\n",
       "      <td>1</td>\n",
       "      <td>1</td>\n",
       "      <td>1</td>\n",
       "    </tr>\n",
       "    <tr>\n",
       "      <th>33714</th>\n",
       "      <td>1</td>\n",
       "      <td>1</td>\n",
       "      <td>1</td>\n",
       "      <td>1</td>\n",
       "      <td>1</td>\n",
       "      <td>1</td>\n",
       "      <td>1</td>\n",
       "      <td>1</td>\n",
       "      <td>1</td>\n",
       "      <td>1</td>\n",
       "    </tr>\n",
       "  </tbody>\n",
       "</table>\n",
       "</div>"
      ],
      "text/plain": [
       "       Name  State  City  venue_id  lat  long  category_name  address  \\\n",
       "zip                                                                     \n",
       "33703     1      1     1         1    1     1              1        1   \n",
       "33605     1      1     1         1    1     1              1        1   \n",
       "33606     1      1     1         1    1     1              1        1   \n",
       "33618     1      1     1         1    1     1              1        1   \n",
       "33629     1      1     1         1    1     1              1        1   \n",
       "33705     2      2     2         2    2     2              2        2   \n",
       "33709     1      1     1         1    1     1              1        1   \n",
       "33710     2      2     2         2    2     2              2        2   \n",
       "33713     1      1     1         1    1     1              1        1   \n",
       "33714     1      1     1         1    1     1              1        1   \n",
       "\n",
       "       delivery_provider  delivery_url  \n",
       "zip                                     \n",
       "33703                  1             1  \n",
       "33605                  1             1  \n",
       "33606                  1             1  \n",
       "33618                  1             1  \n",
       "33629                  1             1  \n",
       "33705                  2             2  \n",
       "33709                  1             1  \n",
       "33710                  2             2  \n",
       "33713                  1             1  \n",
       "33714                  1             1  "
      ]
     },
     "execution_count": 347,
     "metadata": {},
     "output_type": "execute_result"
    }
   ],
   "source": [
    "final_list.groupby('zip').count()"
   ]
  },
  {
   "cell_type": "code",
   "execution_count": 400,
   "id": "36638cc7-4c50-4052-a699-f79939ad43cf",
   "metadata": {},
   "outputs": [
    {
     "name": "stdout",
     "output_type": "stream",
     "text": [
      "The geograpical coordinate of St. Petersburg are 27.7703796, -82.6695085.\n"
     ]
    }
   ],
   "source": [
    "address = 'St. Petersburg, FL'\n",
    "\n",
    "geolocator = Nominatim(user_agent=\"stpt_explorer\")\n",
    "location = geolocator.geocode(address)\n",
    "latitude = location.latitude\n",
    "longitude = location.longitude\n",
    "print('The geograpical coordinate of St. Petersburg are {}, {}.'.format(latitude, longitude))"
   ]
  },
  {
   "cell_type": "code",
   "execution_count": 401,
   "id": "e42e4073-d144-490d-8766-fd4168a6da1f",
   "metadata": {},
   "outputs": [
    {
     "data": {
      "text/html": [
       "<div style=\"width:100%;\"><div style=\"position:relative;width:100%;height:0;padding-bottom:60%;\"><span style=\"color:#565656\">Make this Notebook Trusted to load map: File -> Trust Notebook</span><iframe src=\"about:blank\" style=\"position:absolute;width:100%;height:100%;left:0;top:0;border:none !important;\" data-html=%3C%21DOCTYPE%20html%3E%0A%3Chead%3E%20%20%20%20%0A%20%20%20%20%3Cmeta%20http-equiv%3D%22content-type%22%20content%3D%22text/html%3B%20charset%3DUTF-8%22%20/%3E%0A%20%20%20%20%3Cscript%3EL_PREFER_CANVAS%20%3D%20false%3B%20L_NO_TOUCH%20%3D%20false%3B%20L_DISABLE_3D%20%3D%20false%3B%3C/script%3E%0A%20%20%20%20%3Cscript%20src%3D%22https%3A//cdn.jsdelivr.net/npm/leaflet%401.2.0/dist/leaflet.js%22%3E%3C/script%3E%0A%20%20%20%20%3Cscript%20src%3D%22https%3A//ajax.googleapis.com/ajax/libs/jquery/1.11.1/jquery.min.js%22%3E%3C/script%3E%0A%20%20%20%20%3Cscript%20src%3D%22https%3A//maxcdn.bootstrapcdn.com/bootstrap/3.2.0/js/bootstrap.min.js%22%3E%3C/script%3E%0A%20%20%20%20%3Cscript%20src%3D%22https%3A//cdnjs.cloudflare.com/ajax/libs/Leaflet.awesome-markers/2.0.2/leaflet.awesome-markers.js%22%3E%3C/script%3E%0A%20%20%20%20%3Clink%20rel%3D%22stylesheet%22%20href%3D%22https%3A//cdn.jsdelivr.net/npm/leaflet%401.2.0/dist/leaflet.css%22/%3E%0A%20%20%20%20%3Clink%20rel%3D%22stylesheet%22%20href%3D%22https%3A//maxcdn.bootstrapcdn.com/bootstrap/3.2.0/css/bootstrap.min.css%22/%3E%0A%20%20%20%20%3Clink%20rel%3D%22stylesheet%22%20href%3D%22https%3A//maxcdn.bootstrapcdn.com/bootstrap/3.2.0/css/bootstrap-theme.min.css%22/%3E%0A%20%20%20%20%3Clink%20rel%3D%22stylesheet%22%20href%3D%22https%3A//maxcdn.bootstrapcdn.com/font-awesome/4.6.3/css/font-awesome.min.css%22/%3E%0A%20%20%20%20%3Clink%20rel%3D%22stylesheet%22%20href%3D%22https%3A//cdnjs.cloudflare.com/ajax/libs/Leaflet.awesome-markers/2.0.2/leaflet.awesome-markers.css%22/%3E%0A%20%20%20%20%3Clink%20rel%3D%22stylesheet%22%20href%3D%22https%3A//rawgit.com/python-visualization/folium/master/folium/templates/leaflet.awesome.rotate.css%22/%3E%0A%20%20%20%20%3Cstyle%3Ehtml%2C%20body%20%7Bwidth%3A%20100%25%3Bheight%3A%20100%25%3Bmargin%3A%200%3Bpadding%3A%200%3B%7D%3C/style%3E%0A%20%20%20%20%3Cstyle%3E%23map%20%7Bposition%3Aabsolute%3Btop%3A0%3Bbottom%3A0%3Bright%3A0%3Bleft%3A0%3B%7D%3C/style%3E%0A%20%20%20%20%0A%20%20%20%20%20%20%20%20%20%20%20%20%3Cstyle%3E%20%23map_63f250472ebf4bfca9cb5e6da811b48d%20%7B%0A%20%20%20%20%20%20%20%20%20%20%20%20%20%20%20%20position%20%3A%20relative%3B%0A%20%20%20%20%20%20%20%20%20%20%20%20%20%20%20%20width%20%3A%20100.0%25%3B%0A%20%20%20%20%20%20%20%20%20%20%20%20%20%20%20%20height%3A%20100.0%25%3B%0A%20%20%20%20%20%20%20%20%20%20%20%20%20%20%20%20left%3A%200.0%25%3B%0A%20%20%20%20%20%20%20%20%20%20%20%20%20%20%20%20top%3A%200.0%25%3B%0A%20%20%20%20%20%20%20%20%20%20%20%20%20%20%20%20%7D%0A%20%20%20%20%20%20%20%20%20%20%20%20%3C/style%3E%0A%20%20%20%20%20%20%20%20%0A%3C/head%3E%0A%3Cbody%3E%20%20%20%20%0A%20%20%20%20%0A%20%20%20%20%20%20%20%20%20%20%20%20%3Cdiv%20class%3D%22folium-map%22%20id%3D%22map_63f250472ebf4bfca9cb5e6da811b48d%22%20%3E%3C/div%3E%0A%20%20%20%20%20%20%20%20%0A%3C/body%3E%0A%3Cscript%3E%20%20%20%20%0A%20%20%20%20%0A%0A%20%20%20%20%20%20%20%20%20%20%20%20%0A%20%20%20%20%20%20%20%20%20%20%20%20%20%20%20%20var%20bounds%20%3D%20null%3B%0A%20%20%20%20%20%20%20%20%20%20%20%20%0A%0A%20%20%20%20%20%20%20%20%20%20%20%20var%20map_63f250472ebf4bfca9cb5e6da811b48d%20%3D%20L.map%28%0A%20%20%20%20%20%20%20%20%20%20%20%20%20%20%20%20%20%20%20%20%20%20%20%20%20%20%20%20%20%20%20%20%20%20%27map_63f250472ebf4bfca9cb5e6da811b48d%27%2C%0A%20%20%20%20%20%20%20%20%20%20%20%20%20%20%20%20%20%20%20%20%20%20%20%20%20%20%20%20%20%20%20%20%20%20%7Bcenter%3A%20%5B27.7703796%2C-82.6695085%5D%2C%0A%20%20%20%20%20%20%20%20%20%20%20%20%20%20%20%20%20%20%20%20%20%20%20%20%20%20%20%20%20%20%20%20%20%20zoom%3A%2010%2C%0A%20%20%20%20%20%20%20%20%20%20%20%20%20%20%20%20%20%20%20%20%20%20%20%20%20%20%20%20%20%20%20%20%20%20maxBounds%3A%20bounds%2C%0A%20%20%20%20%20%20%20%20%20%20%20%20%20%20%20%20%20%20%20%20%20%20%20%20%20%20%20%20%20%20%20%20%20%20layers%3A%20%5B%5D%2C%0A%20%20%20%20%20%20%20%20%20%20%20%20%20%20%20%20%20%20%20%20%20%20%20%20%20%20%20%20%20%20%20%20%20%20worldCopyJump%3A%20false%2C%0A%20%20%20%20%20%20%20%20%20%20%20%20%20%20%20%20%20%20%20%20%20%20%20%20%20%20%20%20%20%20%20%20%20%20crs%3A%20L.CRS.EPSG3857%0A%20%20%20%20%20%20%20%20%20%20%20%20%20%20%20%20%20%20%20%20%20%20%20%20%20%20%20%20%20%20%20%20%20%7D%29%3B%0A%20%20%20%20%20%20%20%20%20%20%20%20%0A%20%20%20%20%20%20%20%20%0A%20%20%20%20%0A%20%20%20%20%20%20%20%20%20%20%20%20var%20tile_layer_312dcbeeb0f741589aec520d2cd68a9f%20%3D%20L.tileLayer%28%0A%20%20%20%20%20%20%20%20%20%20%20%20%20%20%20%20%27https%3A//%7Bs%7D.tile.openstreetmap.org/%7Bz%7D/%7Bx%7D/%7By%7D.png%27%2C%0A%20%20%20%20%20%20%20%20%20%20%20%20%20%20%20%20%7B%0A%20%20%22attribution%22%3A%20null%2C%0A%20%20%22detectRetina%22%3A%20false%2C%0A%20%20%22maxZoom%22%3A%2018%2C%0A%20%20%22minZoom%22%3A%201%2C%0A%20%20%22noWrap%22%3A%20false%2C%0A%20%20%22subdomains%22%3A%20%22abc%22%0A%7D%0A%20%20%20%20%20%20%20%20%20%20%20%20%20%20%20%20%29.addTo%28map_63f250472ebf4bfca9cb5e6da811b48d%29%3B%0A%20%20%20%20%20%20%20%20%0A%20%20%20%20%0A%0A%20%20%20%20%20%20%20%20%20%20%20%20var%20marker_a9f3e46a528947f99bab62d5792dd8da%20%3D%20L.marker%28%0A%20%20%20%20%20%20%20%20%20%20%20%20%20%20%20%20%5B27.814484741712977%2C-82.67109951761368%5D%2C%0A%20%20%20%20%20%20%20%20%20%20%20%20%20%20%20%20%7B%0A%20%20%20%20%20%20%20%20%20%20%20%20%20%20%20%20%20%20%20%20icon%3A%20new%20L.Icon.Default%28%29%0A%20%20%20%20%20%20%20%20%20%20%20%20%20%20%20%20%20%20%20%20%7D%0A%20%20%20%20%20%20%20%20%20%20%20%20%20%20%20%20%29%0A%20%20%20%20%20%20%20%20%20%20%20%20%20%20%20%20.addTo%28map_63f250472ebf4bfca9cb5e6da811b48d%29%3B%0A%20%20%20%20%20%20%20%20%20%20%20%20%0A%20%20%20%20%0A%20%20%20%20%20%20%20%20%20%20%20%20var%20popup_3660bd65ddd44685a2cf5fbc2a15a35a%20%3D%20L.popup%28%7BmaxWidth%3A%20%27300%27%7D%29%3B%0A%0A%20%20%20%20%20%20%20%20%20%20%20%20%0A%20%20%20%20%20%20%20%20%20%20%20%20%20%20%20%20var%20html_48d05297b01f4efcb4d909b876f050c0%20%3D%20%24%28%27%3Cdiv%20id%3D%22html_48d05297b01f4efcb4d909b876f050c0%22%20style%3D%22width%3A%20100.0%25%3B%20height%3A%20100.0%25%3B%22%3EMad%20Hatters%20Ethnobotanical%20Tea%20Bar%3C/div%3E%27%29%5B0%5D%3B%0A%20%20%20%20%20%20%20%20%20%20%20%20%20%20%20%20popup_3660bd65ddd44685a2cf5fbc2a15a35a.setContent%28html_48d05297b01f4efcb4d909b876f050c0%29%3B%0A%20%20%20%20%20%20%20%20%20%20%20%20%0A%0A%20%20%20%20%20%20%20%20%20%20%20%20marker_a9f3e46a528947f99bab62d5792dd8da.bindPopup%28popup_3660bd65ddd44685a2cf5fbc2a15a35a%29%3B%0A%0A%20%20%20%20%20%20%20%20%20%20%20%20%0A%20%20%20%20%20%20%20%20%0A%20%20%20%20%0A%0A%20%20%20%20%20%20%20%20%20%20%20%20var%20marker_bd160d7aecb045848ad0f19aea5b0b49%20%3D%20L.marker%28%0A%20%20%20%20%20%20%20%20%20%20%20%20%20%20%20%20%5B27.802260640889692%2C-82.74318763361515%5D%2C%0A%20%20%20%20%20%20%20%20%20%20%20%20%20%20%20%20%7B%0A%20%20%20%20%20%20%20%20%20%20%20%20%20%20%20%20%20%20%20%20icon%3A%20new%20L.Icon.Default%28%29%0A%20%20%20%20%20%20%20%20%20%20%20%20%20%20%20%20%20%20%20%20%7D%0A%20%20%20%20%20%20%20%20%20%20%20%20%20%20%20%20%29%0A%20%20%20%20%20%20%20%20%20%20%20%20%20%20%20%20.addTo%28map_63f250472ebf4bfca9cb5e6da811b48d%29%3B%0A%20%20%20%20%20%20%20%20%20%20%20%20%0A%20%20%20%20%0A%20%20%20%20%20%20%20%20%20%20%20%20var%20popup_76b8c6474c6d46368e3e6fba03e4f353%20%3D%20L.popup%28%7BmaxWidth%3A%20%27300%27%7D%29%3B%0A%0A%20%20%20%20%20%20%20%20%20%20%20%20%0A%20%20%20%20%20%20%20%20%20%20%20%20%20%20%20%20var%20html_24166403dfb146a2834b81e203949bd3%20%3D%20%24%28%27%3Cdiv%20id%3D%22html_24166403dfb146a2834b81e203949bd3%22%20style%3D%22width%3A%20100.0%25%3B%20height%3A%20100.0%25%3B%22%3EVapor%20Road%20%E2%80%93%20Tyrone%3C/div%3E%27%29%5B0%5D%3B%0A%20%20%20%20%20%20%20%20%20%20%20%20%20%20%20%20popup_76b8c6474c6d46368e3e6fba03e4f353.setContent%28html_24166403dfb146a2834b81e203949bd3%29%3B%0A%20%20%20%20%20%20%20%20%20%20%20%20%0A%0A%20%20%20%20%20%20%20%20%20%20%20%20marker_bd160d7aecb045848ad0f19aea5b0b49.bindPopup%28popup_76b8c6474c6d46368e3e6fba03e4f353%29%3B%0A%0A%20%20%20%20%20%20%20%20%20%20%20%20%0A%20%20%20%20%20%20%20%20%0A%20%20%20%20%0A%0A%20%20%20%20%20%20%20%20%20%20%20%20var%20marker_724a9c9efd494a3cbf37a32d749adb59%20%3D%20L.marker%28%0A%20%20%20%20%20%20%20%20%20%20%20%20%20%20%20%20%5B27.777207609814383%2C-82.66748633594212%5D%2C%0A%20%20%20%20%20%20%20%20%20%20%20%20%20%20%20%20%7B%0A%20%20%20%20%20%20%20%20%20%20%20%20%20%20%20%20%20%20%20%20icon%3A%20new%20L.Icon.Default%28%29%0A%20%20%20%20%20%20%20%20%20%20%20%20%20%20%20%20%20%20%20%20%7D%0A%20%20%20%20%20%20%20%20%20%20%20%20%20%20%20%20%29%0A%20%20%20%20%20%20%20%20%20%20%20%20%20%20%20%20.addTo%28map_63f250472ebf4bfca9cb5e6da811b48d%29%3B%0A%20%20%20%20%20%20%20%20%20%20%20%20%0A%20%20%20%20%0A%20%20%20%20%20%20%20%20%20%20%20%20var%20popup_5114ce7ba35c41cfb12868c28375f5dd%20%3D%20L.popup%28%7BmaxWidth%3A%20%27300%27%7D%29%3B%0A%0A%20%20%20%20%20%20%20%20%20%20%20%20%0A%20%20%20%20%20%20%20%20%20%20%20%20%20%20%20%20var%20html_ad628e0a040642ba8b43c95e58436d72%20%3D%20%24%28%27%3Cdiv%20id%3D%22html_ad628e0a040642ba8b43c95e58436d72%22%20style%3D%22width%3A%20100.0%25%3B%20height%3A%20100.0%25%3B%22%3EBula%20Kafe%3C/div%3E%27%29%5B0%5D%3B%0A%20%20%20%20%20%20%20%20%20%20%20%20%20%20%20%20popup_5114ce7ba35c41cfb12868c28375f5dd.setContent%28html_ad628e0a040642ba8b43c95e58436d72%29%3B%0A%20%20%20%20%20%20%20%20%20%20%20%20%0A%0A%20%20%20%20%20%20%20%20%20%20%20%20marker_724a9c9efd494a3cbf37a32d749adb59.bindPopup%28popup_5114ce7ba35c41cfb12868c28375f5dd%29%3B%0A%0A%20%20%20%20%20%20%20%20%20%20%20%20%0A%20%20%20%20%20%20%20%20%0A%20%20%20%20%0A%0A%20%20%20%20%20%20%20%20%20%20%20%20var%20marker_f6206c952a0840e2b9bf97da47919962%20%3D%20L.marker%28%0A%20%20%20%20%20%20%20%20%20%20%20%20%20%20%20%20%5B27.7713495%2C-82.64809129999999%5D%2C%0A%20%20%20%20%20%20%20%20%20%20%20%20%20%20%20%20%7B%0A%20%20%20%20%20%20%20%20%20%20%20%20%20%20%20%20%20%20%20%20icon%3A%20new%20L.Icon.Default%28%29%0A%20%20%20%20%20%20%20%20%20%20%20%20%20%20%20%20%20%20%20%20%7D%0A%20%20%20%20%20%20%20%20%20%20%20%20%20%20%20%20%29%0A%20%20%20%20%20%20%20%20%20%20%20%20%20%20%20%20.addTo%28map_63f250472ebf4bfca9cb5e6da811b48d%29%3B%0A%20%20%20%20%20%20%20%20%20%20%20%20%0A%20%20%20%20%0A%20%20%20%20%20%20%20%20%20%20%20%20var%20popup_07ebe7c0de7d47aa8d80b37ac81e3a37%20%3D%20L.popup%28%7BmaxWidth%3A%20%27300%27%7D%29%3B%0A%0A%20%20%20%20%20%20%20%20%20%20%20%20%0A%20%20%20%20%20%20%20%20%20%20%20%20%20%20%20%20var%20html_9b87a9c29fd24affa3e2c1f8234fa459%20%3D%20%24%28%27%3Cdiv%20id%3D%22html_9b87a9c29fd24affa3e2c1f8234fa459%22%20style%3D%22width%3A%20100.0%25%3B%20height%3A%20100.0%25%3B%22%3EGrassroots%20Kava%20House%3C/div%3E%27%29%5B0%5D%3B%0A%20%20%20%20%20%20%20%20%20%20%20%20%20%20%20%20popup_07ebe7c0de7d47aa8d80b37ac81e3a37.setContent%28html_9b87a9c29fd24affa3e2c1f8234fa459%29%3B%0A%20%20%20%20%20%20%20%20%20%20%20%20%0A%0A%20%20%20%20%20%20%20%20%20%20%20%20marker_f6206c952a0840e2b9bf97da47919962.bindPopup%28popup_07ebe7c0de7d47aa8d80b37ac81e3a37%29%3B%0A%0A%20%20%20%20%20%20%20%20%20%20%20%20%0A%20%20%20%20%20%20%20%20%0A%20%20%20%20%0A%0A%20%20%20%20%20%20%20%20%20%20%20%20var%20marker_ebeb615ee74e44f38608e287b43bbdd7%20%3D%20L.marker%28%0A%20%20%20%20%20%20%20%20%20%20%20%20%20%20%20%20%5B27.813335%2C-82.731267%5D%2C%0A%20%20%20%20%20%20%20%20%20%20%20%20%20%20%20%20%7B%0A%20%20%20%20%20%20%20%20%20%20%20%20%20%20%20%20%20%20%20%20icon%3A%20new%20L.Icon.Default%28%29%0A%20%20%20%20%20%20%20%20%20%20%20%20%20%20%20%20%20%20%20%20%7D%0A%20%20%20%20%20%20%20%20%20%20%20%20%20%20%20%20%29%0A%20%20%20%20%20%20%20%20%20%20%20%20%20%20%20%20.addTo%28map_63f250472ebf4bfca9cb5e6da811b48d%29%3B%0A%20%20%20%20%20%20%20%20%20%20%20%20%0A%20%20%20%20%0A%20%20%20%20%20%20%20%20%20%20%20%20var%20popup_4ae9794fa3c14586862bc2beb90bb301%20%3D%20L.popup%28%7BmaxWidth%3A%20%27300%27%7D%29%3B%0A%0A%20%20%20%20%20%20%20%20%20%20%20%20%0A%20%20%20%20%20%20%20%20%20%20%20%20%20%20%20%20var%20html_ab1980d0e3e74feba902aad5cca9ba45%20%3D%20%24%28%27%3Cdiv%20id%3D%22html_ab1980d0e3e74feba902aad5cca9ba45%22%20style%3D%22width%3A%20100.0%25%3B%20height%3A%20100.0%25%3B%22%3ELava%20Lounge%3C/div%3E%27%29%5B0%5D%3B%0A%20%20%20%20%20%20%20%20%20%20%20%20%20%20%20%20popup_4ae9794fa3c14586862bc2beb90bb301.setContent%28html_ab1980d0e3e74feba902aad5cca9ba45%29%3B%0A%20%20%20%20%20%20%20%20%20%20%20%20%0A%0A%20%20%20%20%20%20%20%20%20%20%20%20marker_ebeb615ee74e44f38608e287b43bbdd7.bindPopup%28popup_4ae9794fa3c14586862bc2beb90bb301%29%3B%0A%0A%20%20%20%20%20%20%20%20%20%20%20%20%0A%20%20%20%20%20%20%20%20%0A%20%20%20%20%0A%0A%20%20%20%20%20%20%20%20%20%20%20%20var%20marker_6f35c7888067422cb46ad115759a660b%20%3D%20L.marker%28%0A%20%20%20%20%20%20%20%20%20%20%20%20%20%20%20%20%5B27.82806%2C-82.647274%5D%2C%0A%20%20%20%20%20%20%20%20%20%20%20%20%20%20%20%20%7B%0A%20%20%20%20%20%20%20%20%20%20%20%20%20%20%20%20%20%20%20%20icon%3A%20new%20L.Icon.Default%28%29%0A%20%20%20%20%20%20%20%20%20%20%20%20%20%20%20%20%20%20%20%20%7D%0A%20%20%20%20%20%20%20%20%20%20%20%20%20%20%20%20%29%0A%20%20%20%20%20%20%20%20%20%20%20%20%20%20%20%20.addTo%28map_63f250472ebf4bfca9cb5e6da811b48d%29%3B%0A%20%20%20%20%20%20%20%20%20%20%20%20%0A%20%20%20%20%0A%20%20%20%20%20%20%20%20%20%20%20%20var%20popup_f83b637d7d14469da622f1998482f027%20%3D%20L.popup%28%7BmaxWidth%3A%20%27300%27%7D%29%3B%0A%0A%20%20%20%20%20%20%20%20%20%20%20%20%0A%20%20%20%20%20%20%20%20%20%20%20%20%20%20%20%20var%20html_ae7e96605fb348eba042cd0b6770bf91%20%3D%20%24%28%27%3Cdiv%20id%3D%22html_ae7e96605fb348eba042cd0b6770bf91%22%20style%3D%22width%3A%20100.0%25%3B%20height%3A%20100.0%25%3B%22%3EMuddy%20Water%20Kava%3C/div%3E%27%29%5B0%5D%3B%0A%20%20%20%20%20%20%20%20%20%20%20%20%20%20%20%20popup_f83b637d7d14469da622f1998482f027.setContent%28html_ae7e96605fb348eba042cd0b6770bf91%29%3B%0A%20%20%20%20%20%20%20%20%20%20%20%20%0A%0A%20%20%20%20%20%20%20%20%20%20%20%20marker_6f35c7888067422cb46ad115759a660b.bindPopup%28popup_f83b637d7d14469da622f1998482f027%29%3B%0A%0A%20%20%20%20%20%20%20%20%20%20%20%20%0A%20%20%20%20%20%20%20%20%0A%20%20%20%20%0A%0A%20%20%20%20%20%20%20%20%20%20%20%20var%20marker_c9e4a256b5364abfaa1e6e0531edd405%20%3D%20L.marker%28%0A%20%20%20%20%20%20%20%20%20%20%20%20%20%20%20%20%5B27.77532%2C-82.65486%5D%2C%0A%20%20%20%20%20%20%20%20%20%20%20%20%20%20%20%20%7B%0A%20%20%20%20%20%20%20%20%20%20%20%20%20%20%20%20%20%20%20%20icon%3A%20new%20L.Icon.Default%28%29%0A%20%20%20%20%20%20%20%20%20%20%20%20%20%20%20%20%20%20%20%20%7D%0A%20%20%20%20%20%20%20%20%20%20%20%20%20%20%20%20%29%0A%20%20%20%20%20%20%20%20%20%20%20%20%20%20%20%20.addTo%28map_63f250472ebf4bfca9cb5e6da811b48d%29%3B%0A%20%20%20%20%20%20%20%20%20%20%20%20%0A%20%20%20%20%0A%20%20%20%20%20%20%20%20%20%20%20%20var%20popup_a4acb1f4b5b840439371351e8d979959%20%3D%20L.popup%28%7BmaxWidth%3A%20%27300%27%7D%29%3B%0A%0A%20%20%20%20%20%20%20%20%20%20%20%20%0A%20%20%20%20%20%20%20%20%20%20%20%20%20%20%20%20var%20html_2a34dd26d6ec41fca94a7360a8cd2aea%20%3D%20%24%28%27%3Cdiv%20id%3D%22html_2a34dd26d6ec41fca94a7360a8cd2aea%22%20style%3D%22width%3A%20100.0%25%3B%20height%3A%20100.0%25%3B%22%3EInVision%20Creative%20Cafe%3C/div%3E%27%29%5B0%5D%3B%0A%20%20%20%20%20%20%20%20%20%20%20%20%20%20%20%20popup_a4acb1f4b5b840439371351e8d979959.setContent%28html_2a34dd26d6ec41fca94a7360a8cd2aea%29%3B%0A%20%20%20%20%20%20%20%20%20%20%20%20%0A%0A%20%20%20%20%20%20%20%20%20%20%20%20marker_c9e4a256b5364abfaa1e6e0531edd405.bindPopup%28popup_a4acb1f4b5b840439371351e8d979959%29%3B%0A%0A%20%20%20%20%20%20%20%20%20%20%20%20%0A%20%20%20%20%20%20%20%20%0A%20%20%20%20%0A%0A%20%20%20%20%20%20%20%20%20%20%20%20var%20marker_9df7d7929eb44fdbbbacafb888b38eb1%20%3D%20L.marker%28%0A%20%20%20%20%20%20%20%20%20%20%20%20%20%20%20%20%5B27.80599899182359%2C-82.70029306411743%5D%2C%0A%20%20%20%20%20%20%20%20%20%20%20%20%20%20%20%20%7B%0A%20%20%20%20%20%20%20%20%20%20%20%20%20%20%20%20%20%20%20%20icon%3A%20new%20L.Icon.Default%28%29%0A%20%20%20%20%20%20%20%20%20%20%20%20%20%20%20%20%20%20%20%20%7D%0A%20%20%20%20%20%20%20%20%20%20%20%20%20%20%20%20%29%0A%20%20%20%20%20%20%20%20%20%20%20%20%20%20%20%20.addTo%28map_63f250472ebf4bfca9cb5e6da811b48d%29%3B%0A%20%20%20%20%20%20%20%20%20%20%20%20%0A%20%20%20%20%0A%20%20%20%20%20%20%20%20%20%20%20%20var%20popup_82ceeaf071ca4e669fe15537eb67d913%20%3D%20L.popup%28%7BmaxWidth%3A%20%27300%27%7D%29%3B%0A%0A%20%20%20%20%20%20%20%20%20%20%20%20%0A%20%20%20%20%20%20%20%20%20%20%20%20%20%20%20%20var%20html_1ee05373101f49f597d414e9150131e8%20%3D%20%24%28%27%3Cdiv%20id%3D%22html_1ee05373101f49f597d414e9150131e8%22%20style%3D%22width%3A%20100.0%25%3B%20height%3A%20100.0%25%3B%22%3EVapor%20Road%20%E2%80%93%20Disston%3C/div%3E%27%29%5B0%5D%3B%0A%20%20%20%20%20%20%20%20%20%20%20%20%20%20%20%20popup_82ceeaf071ca4e669fe15537eb67d913.setContent%28html_1ee05373101f49f597d414e9150131e8%29%3B%0A%20%20%20%20%20%20%20%20%20%20%20%20%0A%0A%20%20%20%20%20%20%20%20%20%20%20%20marker_9df7d7929eb44fdbbbacafb888b38eb1.bindPopup%28popup_82ceeaf071ca4e669fe15537eb67d913%29%3B%0A%0A%20%20%20%20%20%20%20%20%20%20%20%20%0A%20%20%20%20%20%20%20%20%0A%20%20%20%20%0A%0A%20%20%20%20%20%20%20%20%20%20%20%20var%20marker_e3c206fa914f4fdd9a14db8f459facc5%20%3D%20L.marker%28%0A%20%20%20%20%20%20%20%20%20%20%20%20%20%20%20%20%5B28.0399%2C-82.505686%5D%2C%0A%20%20%20%20%20%20%20%20%20%20%20%20%20%20%20%20%7B%0A%20%20%20%20%20%20%20%20%20%20%20%20%20%20%20%20%20%20%20%20icon%3A%20new%20L.Icon.Default%28%29%0A%20%20%20%20%20%20%20%20%20%20%20%20%20%20%20%20%20%20%20%20%7D%0A%20%20%20%20%20%20%20%20%20%20%20%20%20%20%20%20%29%0A%20%20%20%20%20%20%20%20%20%20%20%20%20%20%20%20.addTo%28map_63f250472ebf4bfca9cb5e6da811b48d%29%3B%0A%20%20%20%20%20%20%20%20%20%20%20%20%0A%20%20%20%20%0A%20%20%20%20%20%20%20%20%20%20%20%20var%20popup_8eedd7a9dbc24ea3a4428131384ea88b%20%3D%20L.popup%28%7BmaxWidth%3A%20%27300%27%7D%29%3B%0A%0A%20%20%20%20%20%20%20%20%20%20%20%20%0A%20%20%20%20%20%20%20%20%20%20%20%20%20%20%20%20var%20html_0b59f330eccc4b87b72a0f386fd2ee77%20%3D%20%24%28%27%3Cdiv%20id%3D%22html_0b59f330eccc4b87b72a0f386fd2ee77%22%20style%3D%22width%3A%20100.0%25%3B%20height%3A%20100.0%25%3B%22%3ESteep%20Station%3C/div%3E%27%29%5B0%5D%3B%0A%20%20%20%20%20%20%20%20%20%20%20%20%20%20%20%20popup_8eedd7a9dbc24ea3a4428131384ea88b.setContent%28html_0b59f330eccc4b87b72a0f386fd2ee77%29%3B%0A%20%20%20%20%20%20%20%20%20%20%20%20%0A%0A%20%20%20%20%20%20%20%20%20%20%20%20marker_e3c206fa914f4fdd9a14db8f459facc5.bindPopup%28popup_8eedd7a9dbc24ea3a4428131384ea88b%29%3B%0A%0A%20%20%20%20%20%20%20%20%20%20%20%20%0A%20%20%20%20%20%20%20%20%0A%20%20%20%20%0A%0A%20%20%20%20%20%20%20%20%20%20%20%20var%20marker_d2440817802e4675893f184897766398%20%3D%20L.marker%28%0A%20%20%20%20%20%20%20%20%20%20%20%20%20%20%20%20%5B27.960043%2C-82.437147%5D%2C%0A%20%20%20%20%20%20%20%20%20%20%20%20%20%20%20%20%7B%0A%20%20%20%20%20%20%20%20%20%20%20%20%20%20%20%20%20%20%20%20icon%3A%20new%20L.Icon.Default%28%29%0A%20%20%20%20%20%20%20%20%20%20%20%20%20%20%20%20%20%20%20%20%7D%0A%20%20%20%20%20%20%20%20%20%20%20%20%20%20%20%20%29%0A%20%20%20%20%20%20%20%20%20%20%20%20%20%20%20%20.addTo%28map_63f250472ebf4bfca9cb5e6da811b48d%29%3B%0A%20%20%20%20%20%20%20%20%20%20%20%20%0A%20%20%20%20%0A%20%20%20%20%20%20%20%20%20%20%20%20var%20popup_e41db1dccfbe41a8b49bc6918e873d9b%20%3D%20L.popup%28%7BmaxWidth%3A%20%27300%27%7D%29%3B%0A%0A%20%20%20%20%20%20%20%20%20%20%20%20%0A%20%20%20%20%20%20%20%20%20%20%20%20%20%20%20%20var%20html_fc0a6b81267a4b6ca2584abc462c6b2b%20%3D%20%24%28%27%3Cdiv%20id%3D%22html_fc0a6b81267a4b6ca2584abc462c6b2b%22%20style%3D%22width%3A%20100.0%25%3B%20height%3A%20100.0%25%3B%22%3ESpookEasy%20Lounge%3C/div%3E%27%29%5B0%5D%3B%0A%20%20%20%20%20%20%20%20%20%20%20%20%20%20%20%20popup_e41db1dccfbe41a8b49bc6918e873d9b.setContent%28html_fc0a6b81267a4b6ca2584abc462c6b2b%29%3B%0A%20%20%20%20%20%20%20%20%20%20%20%20%0A%0A%20%20%20%20%20%20%20%20%20%20%20%20marker_d2440817802e4675893f184897766398.bindPopup%28popup_e41db1dccfbe41a8b49bc6918e873d9b%29%3B%0A%0A%20%20%20%20%20%20%20%20%20%20%20%20%0A%20%20%20%20%20%20%20%20%0A%20%20%20%20%0A%0A%20%20%20%20%20%20%20%20%20%20%20%20var%20marker_e3a6a4d0764f45329257700b7bd3bc71%20%3D%20L.marker%28%0A%20%20%20%20%20%20%20%20%20%20%20%20%20%20%20%20%5B27.929469506407006%2C-82.50607967376709%5D%2C%0A%20%20%20%20%20%20%20%20%20%20%20%20%20%20%20%20%7B%0A%20%20%20%20%20%20%20%20%20%20%20%20%20%20%20%20%20%20%20%20icon%3A%20new%20L.Icon.Default%28%29%0A%20%20%20%20%20%20%20%20%20%20%20%20%20%20%20%20%20%20%20%20%7D%0A%20%20%20%20%20%20%20%20%20%20%20%20%20%20%20%20%29%0A%20%20%20%20%20%20%20%20%20%20%20%20%20%20%20%20.addTo%28map_63f250472ebf4bfca9cb5e6da811b48d%29%3B%0A%20%20%20%20%20%20%20%20%20%20%20%20%0A%20%20%20%20%0A%20%20%20%20%20%20%20%20%20%20%20%20var%20popup_eafb1e0917d34cc9ab7644d81f4f5dcd%20%3D%20L.popup%28%7BmaxWidth%3A%20%27300%27%7D%29%3B%0A%0A%20%20%20%20%20%20%20%20%20%20%20%20%0A%20%20%20%20%20%20%20%20%20%20%20%20%20%20%20%20var%20html_4c1df7e6a97b43ee8155e258d84ef305%20%3D%20%24%28%27%3Cdiv%20id%3D%22html_4c1df7e6a97b43ee8155e258d84ef305%22%20style%3D%22width%3A%20100.0%25%3B%20height%3A%20100.0%25%3B%22%3ETampa%20Vapor%20%E2%80%93%20South%20Tampa%3C/div%3E%27%29%5B0%5D%3B%0A%20%20%20%20%20%20%20%20%20%20%20%20%20%20%20%20popup_eafb1e0917d34cc9ab7644d81f4f5dcd.setContent%28html_4c1df7e6a97b43ee8155e258d84ef305%29%3B%0A%20%20%20%20%20%20%20%20%20%20%20%20%0A%0A%20%20%20%20%20%20%20%20%20%20%20%20marker_e3a6a4d0764f45329257700b7bd3bc71.bindPopup%28popup_eafb1e0917d34cc9ab7644d81f4f5dcd%29%3B%0A%0A%20%20%20%20%20%20%20%20%20%20%20%20%0A%20%20%20%20%20%20%20%20%0A%20%20%20%20%0A%0A%20%20%20%20%20%20%20%20%20%20%20%20var%20marker_3efee8ad2af44a818073f3c28b2e5be9%20%3D%20L.marker%28%0A%20%20%20%20%20%20%20%20%20%20%20%20%20%20%20%20%5B27.94371%2C-82.483168%5D%2C%0A%20%20%20%20%20%20%20%20%20%20%20%20%20%20%20%20%7B%0A%20%20%20%20%20%20%20%20%20%20%20%20%20%20%20%20%20%20%20%20icon%3A%20new%20L.Icon.Default%28%29%0A%20%20%20%20%20%20%20%20%20%20%20%20%20%20%20%20%20%20%20%20%7D%0A%20%20%20%20%20%20%20%20%20%20%20%20%20%20%20%20%29%0A%20%20%20%20%20%20%20%20%20%20%20%20%20%20%20%20.addTo%28map_63f250472ebf4bfca9cb5e6da811b48d%29%3B%0A%20%20%20%20%20%20%20%20%20%20%20%20%0A%20%20%20%20%0A%20%20%20%20%20%20%20%20%20%20%20%20var%20popup_c14b17e38f4545c0b50bcef1cc8d3efd%20%3D%20L.popup%28%7BmaxWidth%3A%20%27300%27%7D%29%3B%0A%0A%20%20%20%20%20%20%20%20%20%20%20%20%0A%20%20%20%20%20%20%20%20%20%20%20%20%20%20%20%20var%20html_f67c0f0b359342f9ad69acbcbdac3771%20%3D%20%24%28%27%3Cdiv%20id%3D%22html_f67c0f0b359342f9ad69acbcbdac3771%22%20style%3D%22width%3A%20100.0%25%3B%20height%3A%20100.0%25%3B%22%3EMad%20Chiller%20World%20Kava%20%26%20Waffles%3C/div%3E%27%29%5B0%5D%3B%0A%20%20%20%20%20%20%20%20%20%20%20%20%20%20%20%20popup_c14b17e38f4545c0b50bcef1cc8d3efd.setContent%28html_f67c0f0b359342f9ad69acbcbdac3771%29%3B%0A%20%20%20%20%20%20%20%20%20%20%20%20%0A%0A%20%20%20%20%20%20%20%20%20%20%20%20marker_3efee8ad2af44a818073f3c28b2e5be9.bindPopup%28popup_c14b17e38f4545c0b50bcef1cc8d3efd%29%3B%0A%0A%20%20%20%20%20%20%20%20%20%20%20%20%0A%20%20%20%20%20%20%20%20%0A%3C/script%3E onload=\"this.contentDocument.open();this.contentDocument.write(    decodeURIComponent(this.getAttribute('data-html')));this.contentDocument.close();\" allowfullscreen webkitallowfullscreen mozallowfullscreen></iframe></div></div>"
      ],
      "text/plain": [
       "<folium.folium.Map at 0x7f86922a2630>"
      ]
     },
     "execution_count": 401,
     "metadata": {},
     "output_type": "execute_result"
    }
   ],
   "source": [
    "# create map of New York using latitude and longitude values\n",
    "map_stpt = folium.Map(location=[latitude, longitude], zoom_start=10)\n",
    "\n",
    "# add markers to map\n",
    "for i in range(0,len(final_list)):\n",
    "   folium.Marker(\n",
    "      location=[final_list.iloc[i]['lat'], final_list.iloc[i]['long']],\n",
    "      popup=final_list.iloc[i]['Name'],\n",
    "   ).add_to(map_stpt)\n",
    "map_stpt"
   ]
  },
  {
   "cell_type": "markdown",
   "id": "76e9bdb8-5c4b-467d-91db-9c73312a319e",
   "metadata": {},
   "source": [
    "Zip code of interest: 33705 and 33710. Since 33710 are all Vapor Houses, we will focus only on 33705."
   ]
  },
  {
   "cell_type": "code",
   "execution_count": 402,
   "id": "27c4e7a0-8cc3-4fe6-bdce-ea17f5fc4c6e",
   "metadata": {},
   "outputs": [],
   "source": [
    "zip_focus = final_list.loc[final_list['zip'] == '33705']"
   ]
  },
  {
   "cell_type": "code",
   "execution_count": 403,
   "id": "150a9f46-2f48-4ad4-b068-8e9fda0ad692",
   "metadata": {},
   "outputs": [
    {
     "data": {
      "text/html": [
       "<div>\n",
       "<style scoped>\n",
       "    .dataframe tbody tr th:only-of-type {\n",
       "        vertical-align: middle;\n",
       "    }\n",
       "\n",
       "    .dataframe tbody tr th {\n",
       "        vertical-align: top;\n",
       "    }\n",
       "\n",
       "    .dataframe thead th {\n",
       "        text-align: right;\n",
       "    }\n",
       "</style>\n",
       "<table border=\"1\" class=\"dataframe\">\n",
       "  <thead>\n",
       "    <tr style=\"text-align: right;\">\n",
       "      <th></th>\n",
       "      <th>Name</th>\n",
       "      <th>State</th>\n",
       "      <th>City</th>\n",
       "      <th>venue_id</th>\n",
       "      <th>lat</th>\n",
       "      <th>long</th>\n",
       "      <th>zip</th>\n",
       "      <th>category_name</th>\n",
       "      <th>address</th>\n",
       "      <th>delivery_provider</th>\n",
       "      <th>delivery_url</th>\n",
       "    </tr>\n",
       "  </thead>\n",
       "  <tbody>\n",
       "    <tr>\n",
       "      <th>66</th>\n",
       "      <td>Grassroots Kava House</td>\n",
       "      <td>Florida</td>\n",
       "      <td>St. Petersburg</td>\n",
       "      <td>587056b445c3ed09988fa406</td>\n",
       "      <td>27.771349</td>\n",
       "      <td>-82.648091</td>\n",
       "      <td>33705</td>\n",
       "      <td>Tea Room</td>\n",
       "      <td>[\"957 Central Ave\", \"Saint Petersburg, FL 33705\"]</td>\n",
       "      <td>grubhub</td>\n",
       "      <td>https://www.grubhub.com/restaurant/grassroots-...</td>\n",
       "    </tr>\n",
       "    <tr>\n",
       "      <th>69</th>\n",
       "      <td>InVision Creative Cafe</td>\n",
       "      <td>Florida</td>\n",
       "      <td>St. Petersburg</td>\n",
       "      <td>580a9764d67cd5bd3773a7a2</td>\n",
       "      <td>27.775320</td>\n",
       "      <td>-82.654860</td>\n",
       "      <td>33705</td>\n",
       "      <td>Café</td>\n",
       "      <td>[\"275 16th St N\", \"Saint Petersburg, FL 33705\"]</td>\n",
       "      <td>grubhub</td>\n",
       "      <td>https://www.grubhub.com/restaurant/invision-cr...</td>\n",
       "    </tr>\n",
       "  </tbody>\n",
       "</table>\n",
       "</div>"
      ],
      "text/plain": [
       "                      Name    State            City                  venue_id  \\\n",
       "66   Grassroots Kava House  Florida  St. Petersburg  587056b445c3ed09988fa406   \n",
       "69  InVision Creative Cafe  Florida  St. Petersburg  580a9764d67cd5bd3773a7a2   \n",
       "\n",
       "          lat       long    zip category_name  \\\n",
       "66  27.771349 -82.648091  33705      Tea Room   \n",
       "69  27.775320 -82.654860  33705          Café   \n",
       "\n",
       "                                              address delivery_provider  \\\n",
       "66  [\"957 Central Ave\", \"Saint Petersburg, FL 33705\"]           grubhub   \n",
       "69    [\"275 16th St N\", \"Saint Petersburg, FL 33705\"]           grubhub   \n",
       "\n",
       "                                         delivery_url  \n",
       "66  https://www.grubhub.com/restaurant/grassroots-...  \n",
       "69  https://www.grubhub.com/restaurant/invision-cr...  "
      ]
     },
     "execution_count": 403,
     "metadata": {},
     "output_type": "execute_result"
    }
   ],
   "source": [
    "zip_focus"
   ]
  },
  {
   "cell_type": "code",
   "execution_count": 429,
   "id": "06061e13-867c-4a0f-9926-4e1299e911ad",
   "metadata": {},
   "outputs": [],
   "source": [
    "url = 'https://api.foursquare.com/v2/venues/explore?&client_id={}&client_secret={}&v={}&ll={},{}&radius={}&limit={}'.format(\n",
    "            CLIENT_ID, CLIENT_SECRET, VERSION, \n",
    "            27.771349, -82.648091, 500, 100)\n",
    "\n",
    "results = requests.get(url).json()[\"response\"]['groups'][0]['items']\n",
    "venues_list.append([(\n",
    "            'Grassroots Kava House',27.771349, -82.648091,\n",
    "            v['venue']['name'], \n",
    "            v['venue']['location']['lat'], \n",
    "            v['venue']['location']['lng'],  \n",
    "            v['venue']['categories'][0]['name']) for v in results])\n",
    "nearby_venues = pd.DataFrame([item for venue_list in venues_list for item in venue_list])\n",
    "nearby_venues.columns = ['Name',\n",
    "                  'Latitude',\n",
    "                  'Longitude',\n",
    "                  'Venue',\n",
    "                  'Venue Latitude',\n",
    "                  'Venue Longitude',\n",
    "                  'Venue Category']"
   ]
  },
  {
   "cell_type": "code",
   "execution_count": 430,
   "id": "cf383e22-b47a-45b9-bbf7-bbdb7bb331fc",
   "metadata": {},
   "outputs": [
    {
     "data": {
      "text/html": [
       "<div>\n",
       "<style scoped>\n",
       "    .dataframe tbody tr th:only-of-type {\n",
       "        vertical-align: middle;\n",
       "    }\n",
       "\n",
       "    .dataframe tbody tr th {\n",
       "        vertical-align: top;\n",
       "    }\n",
       "\n",
       "    .dataframe thead th {\n",
       "        text-align: right;\n",
       "    }\n",
       "</style>\n",
       "<table border=\"1\" class=\"dataframe\">\n",
       "  <thead>\n",
       "    <tr style=\"text-align: right;\">\n",
       "      <th></th>\n",
       "      <th>Name</th>\n",
       "      <th>Latitude</th>\n",
       "      <th>Longitude</th>\n",
       "      <th>Venue</th>\n",
       "      <th>Venue Latitude</th>\n",
       "      <th>Venue Longitude</th>\n",
       "      <th>Venue Category</th>\n",
       "    </tr>\n",
       "  </thead>\n",
       "  <tbody>\n",
       "    <tr>\n",
       "      <th>0</th>\n",
       "      <td>Grassroots Kava House</td>\n",
       "      <td>27.771349</td>\n",
       "      <td>-82.648091</td>\n",
       "      <td>Engine No. 9</td>\n",
       "      <td>27.771828</td>\n",
       "      <td>-82.646852</td>\n",
       "      <td>Burger Joint</td>\n",
       "    </tr>\n",
       "    <tr>\n",
       "      <th>1</th>\n",
       "      <td>Grassroots Kava House</td>\n",
       "      <td>27.771349</td>\n",
       "      <td>-82.648091</td>\n",
       "      <td>Red Mesa Mercado</td>\n",
       "      <td>27.771514</td>\n",
       "      <td>-82.649979</td>\n",
       "      <td>Mexican Restaurant</td>\n",
       "    </tr>\n",
       "    <tr>\n",
       "      <th>2</th>\n",
       "      <td>Grassroots Kava House</td>\n",
       "      <td>27.771349</td>\n",
       "      <td>-82.648091</td>\n",
       "      <td>Bavaro's Pizza Napoletana &amp; Pastaria</td>\n",
       "      <td>27.771301</td>\n",
       "      <td>-82.647873</td>\n",
       "      <td>Italian Restaurant</td>\n",
       "    </tr>\n",
       "    <tr>\n",
       "      <th>3</th>\n",
       "      <td>Grassroots Kava House</td>\n",
       "      <td>27.771349</td>\n",
       "      <td>-82.648091</td>\n",
       "      <td>Dr. BBQ</td>\n",
       "      <td>27.770571</td>\n",
       "      <td>-82.650012</td>\n",
       "      <td>BBQ Joint</td>\n",
       "    </tr>\n",
       "    <tr>\n",
       "      <th>4</th>\n",
       "      <td>Grassroots Kava House</td>\n",
       "      <td>27.771349</td>\n",
       "      <td>-82.648091</td>\n",
       "      <td>Bodega</td>\n",
       "      <td>27.771071</td>\n",
       "      <td>-82.650546</td>\n",
       "      <td>Latin American Restaurant</td>\n",
       "    </tr>\n",
       "    <tr>\n",
       "      <th>...</th>\n",
       "      <td>...</td>\n",
       "      <td>...</td>\n",
       "      <td>...</td>\n",
       "      <td>...</td>\n",
       "      <td>...</td>\n",
       "      <td>...</td>\n",
       "      <td>...</td>\n",
       "    </tr>\n",
       "    <tr>\n",
       "      <th>61</th>\n",
       "      <td>Grassroots Kava House</td>\n",
       "      <td>27.771349</td>\n",
       "      <td>-82.648091</td>\n",
       "      <td>Urban Style Flats Pool</td>\n",
       "      <td>27.767848</td>\n",
       "      <td>-82.646816</td>\n",
       "      <td>Pool</td>\n",
       "    </tr>\n",
       "    <tr>\n",
       "      <th>62</th>\n",
       "      <td>Grassroots Kava House</td>\n",
       "      <td>27.771349</td>\n",
       "      <td>-82.648091</td>\n",
       "      <td>City Nails II</td>\n",
       "      <td>27.768096</td>\n",
       "      <td>-82.646158</td>\n",
       "      <td>Cosmetics Shop</td>\n",
       "    </tr>\n",
       "    <tr>\n",
       "      <th>63</th>\n",
       "      <td>Grassroots Kava House</td>\n",
       "      <td>27.771349</td>\n",
       "      <td>-82.648091</td>\n",
       "      <td>Webbs Plaza</td>\n",
       "      <td>27.767830</td>\n",
       "      <td>-82.646779</td>\n",
       "      <td>Shop &amp; Service</td>\n",
       "    </tr>\n",
       "    <tr>\n",
       "      <th>64</th>\n",
       "      <td>Grassroots Kava House</td>\n",
       "      <td>27.771349</td>\n",
       "      <td>-82.648091</td>\n",
       "      <td>Team TB Store</td>\n",
       "      <td>27.770188</td>\n",
       "      <td>-82.652630</td>\n",
       "      <td>Sporting Goods Shop</td>\n",
       "    </tr>\n",
       "    <tr>\n",
       "      <th>65</th>\n",
       "      <td>Grassroots Kava House</td>\n",
       "      <td>27.771349</td>\n",
       "      <td>-82.648091</td>\n",
       "      <td>Arts Food Mart</td>\n",
       "      <td>27.775631</td>\n",
       "      <td>-82.646988</td>\n",
       "      <td>Convenience Store</td>\n",
       "    </tr>\n",
       "  </tbody>\n",
       "</table>\n",
       "<p>66 rows × 7 columns</p>\n",
       "</div>"
      ],
      "text/plain": [
       "                     Name   Latitude  Longitude  \\\n",
       "0   Grassroots Kava House  27.771349 -82.648091   \n",
       "1   Grassroots Kava House  27.771349 -82.648091   \n",
       "2   Grassroots Kava House  27.771349 -82.648091   \n",
       "3   Grassroots Kava House  27.771349 -82.648091   \n",
       "4   Grassroots Kava House  27.771349 -82.648091   \n",
       "..                    ...        ...        ...   \n",
       "61  Grassroots Kava House  27.771349 -82.648091   \n",
       "62  Grassroots Kava House  27.771349 -82.648091   \n",
       "63  Grassroots Kava House  27.771349 -82.648091   \n",
       "64  Grassroots Kava House  27.771349 -82.648091   \n",
       "65  Grassroots Kava House  27.771349 -82.648091   \n",
       "\n",
       "                                   Venue  Venue Latitude  Venue Longitude  \\\n",
       "0                           Engine No. 9       27.771828       -82.646852   \n",
       "1                       Red Mesa Mercado       27.771514       -82.649979   \n",
       "2   Bavaro's Pizza Napoletana & Pastaria       27.771301       -82.647873   \n",
       "3                                Dr. BBQ       27.770571       -82.650012   \n",
       "4                                 Bodega       27.771071       -82.650546   \n",
       "..                                   ...             ...              ...   \n",
       "61                Urban Style Flats Pool       27.767848       -82.646816   \n",
       "62                         City Nails II       27.768096       -82.646158   \n",
       "63                           Webbs Plaza       27.767830       -82.646779   \n",
       "64                         Team TB Store       27.770188       -82.652630   \n",
       "65                        Arts Food Mart       27.775631       -82.646988   \n",
       "\n",
       "               Venue Category  \n",
       "0                Burger Joint  \n",
       "1          Mexican Restaurant  \n",
       "2          Italian Restaurant  \n",
       "3                   BBQ Joint  \n",
       "4   Latin American Restaurant  \n",
       "..                        ...  \n",
       "61                       Pool  \n",
       "62             Cosmetics Shop  \n",
       "63             Shop & Service  \n",
       "64        Sporting Goods Shop  \n",
       "65          Convenience Store  \n",
       "\n",
       "[66 rows x 7 columns]"
      ]
     },
     "execution_count": 430,
     "metadata": {},
     "output_type": "execute_result"
    }
   ],
   "source": [
    "nearby_venues"
   ]
  },
  {
   "cell_type": "code",
   "execution_count": 431,
   "id": "6ae29169-f8e8-4979-89fb-6bc14a962ed9",
   "metadata": {},
   "outputs": [
    {
     "name": "stdout",
     "output_type": "stream",
     "text": [
      "There are 49 uniques categories.\n"
     ]
    }
   ],
   "source": [
    "print('There are {} uniques categories.'.format(len(nearby_venues['Venue Category'].unique())))"
   ]
  },
  {
   "cell_type": "code",
   "execution_count": 444,
   "id": "8416bb46-2db6-4c10-8cc7-3cda70fa80a5",
   "metadata": {},
   "outputs": [],
   "source": [
    "group1 =nearby_venues.groupby('Venue Category').count()"
   ]
  },
  {
   "cell_type": "code",
   "execution_count": 450,
   "id": "030d520c-155a-400c-bb5b-03acd86fa9fc",
   "metadata": {},
   "outputs": [
    {
     "data": {
      "text/html": [
       "<div>\n",
       "<style scoped>\n",
       "    .dataframe tbody tr th:only-of-type {\n",
       "        vertical-align: middle;\n",
       "    }\n",
       "\n",
       "    .dataframe tbody tr th {\n",
       "        vertical-align: top;\n",
       "    }\n",
       "\n",
       "    .dataframe thead th {\n",
       "        text-align: right;\n",
       "    }\n",
       "</style>\n",
       "<table border=\"1\" class=\"dataframe\">\n",
       "  <thead>\n",
       "    <tr style=\"text-align: right;\">\n",
       "      <th></th>\n",
       "      <th>Name</th>\n",
       "      <th>Latitude</th>\n",
       "      <th>Longitude</th>\n",
       "      <th>Venue</th>\n",
       "      <th>Venue Latitude</th>\n",
       "      <th>Venue Longitude</th>\n",
       "    </tr>\n",
       "    <tr>\n",
       "      <th>Venue Category</th>\n",
       "      <th></th>\n",
       "      <th></th>\n",
       "      <th></th>\n",
       "      <th></th>\n",
       "      <th></th>\n",
       "      <th></th>\n",
       "    </tr>\n",
       "  </thead>\n",
       "  <tbody>\n",
       "    <tr>\n",
       "      <th>Art Gallery</th>\n",
       "      <td>4</td>\n",
       "      <td>4</td>\n",
       "      <td>4</td>\n",
       "      <td>4</td>\n",
       "      <td>4</td>\n",
       "      <td>4</td>\n",
       "    </tr>\n",
       "    <tr>\n",
       "      <th>Bar</th>\n",
       "      <td>4</td>\n",
       "      <td>4</td>\n",
       "      <td>4</td>\n",
       "      <td>4</td>\n",
       "      <td>4</td>\n",
       "      <td>4</td>\n",
       "    </tr>\n",
       "    <tr>\n",
       "      <th>Brewery</th>\n",
       "      <td>3</td>\n",
       "      <td>3</td>\n",
       "      <td>3</td>\n",
       "      <td>3</td>\n",
       "      <td>3</td>\n",
       "      <td>3</td>\n",
       "    </tr>\n",
       "    <tr>\n",
       "      <th>Coffee Shop</th>\n",
       "      <td>3</td>\n",
       "      <td>3</td>\n",
       "      <td>3</td>\n",
       "      <td>3</td>\n",
       "      <td>3</td>\n",
       "      <td>3</td>\n",
       "    </tr>\n",
       "    <tr>\n",
       "      <th>Yoga Studio</th>\n",
       "      <td>2</td>\n",
       "      <td>2</td>\n",
       "      <td>2</td>\n",
       "      <td>2</td>\n",
       "      <td>2</td>\n",
       "      <td>2</td>\n",
       "    </tr>\n",
       "  </tbody>\n",
       "</table>\n",
       "</div>"
      ],
      "text/plain": [
       "                Name  Latitude  Longitude  Venue  Venue Latitude  \\\n",
       "Venue Category                                                     \n",
       "Art Gallery        4         4          4      4               4   \n",
       "Bar                4         4          4      4               4   \n",
       "Brewery            3         3          3      3               3   \n",
       "Coffee Shop        3         3          3      3               3   \n",
       "Yoga Studio        2         2          2      2               2   \n",
       "\n",
       "                Venue Longitude  \n",
       "Venue Category                   \n",
       "Art Gallery                   4  \n",
       "Bar                           4  \n",
       "Brewery                       3  \n",
       "Coffee Shop                   3  \n",
       "Yoga Studio                   2  "
      ]
     },
     "execution_count": 450,
     "metadata": {},
     "output_type": "execute_result"
    }
   ],
   "source": [
    "group1.sort_values(by='Venue',ascending=False).head()"
   ]
  }
 ],
 "metadata": {
  "kernelspec": {
   "display_name": "Python",
   "language": "python",
   "name": "conda-env-python-py"
  },
  "language_info": {
   "codemirror_mode": {
    "name": "ipython",
    "version": 3
   },
   "file_extension": ".py",
   "mimetype": "text/x-python",
   "name": "python",
   "nbconvert_exporter": "python",
   "pygments_lexer": "ipython3",
   "version": "3.6.13"
  }
 },
 "nbformat": 4,
 "nbformat_minor": 5
}
