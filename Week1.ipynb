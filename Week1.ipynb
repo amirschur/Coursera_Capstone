{
 "cells": [
  {
   "cell_type": "markdown",
   "id": "16dc1e10-6ecf-4de4-a2dc-8a7e4b45af66",
   "metadata": {},
   "source": [
    "## This is a file for Capstone Project - Week 1"
   ]
  },
  {
   "cell_type": "code",
   "execution_count": 3,
   "id": "6e228012-2a50-4a0f-8d2d-8eae577cc641",
   "metadata": {},
   "outputs": [],
   "source": [
    "import pandas as pd\n",
    "import numpy as np"
   ]
  },
  {
   "cell_type": "code",
   "execution_count": 4,
   "id": "04bda131-6825-4f2c-9fee-bd5a1787dbcf",
   "metadata": {},
   "outputs": [
    {
     "name": "stdout",
     "output_type": "stream",
     "text": [
      "Hello Capstone Project Course!\n"
     ]
    }
   ],
   "source": [
    "print(\"Hello Capstone Project Course!\")"
   ]
  },
  {
   "cell_type": "code",
   "execution_count": null,
   "id": "ff1e53ab-7341-4e45-bb98-4d1a85cceea7",
   "metadata": {},
   "outputs": [],
   "source": []
  }
 ],
 "metadata": {
  "kernelspec": {
   "display_name": "Python",
   "language": "python",
   "name": "conda-env-python-py"
  },
  "language_info": {
   "codemirror_mode": {
    "name": "ipython",
    "version": 3
   },
   "file_extension": ".py",
   "mimetype": "text/x-python",
   "name": "python",
   "nbconvert_exporter": "python",
   "pygments_lexer": "ipython3",
   "version": "3.6.13"
  }
 },
 "nbformat": 4,
 "nbformat_minor": 5
}
